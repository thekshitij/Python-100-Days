{
 "cells": [
  {
   "cell_type": "code",
   "execution_count": 1,
   "id": "1aa6646b-701a-49ea-b2a3-7a5cb7744f6a",
   "metadata": {},
   "outputs": [],
   "source": [
    "import random"
   ]
  },
  {
   "cell_type": "code",
   "execution_count": 19,
   "id": "4f038a92-a74e-4b2f-8060-bd797c63d7f7",
   "metadata": {},
   "outputs": [
    {
     "ename": "NameError",
     "evalue": "name 'game_is_over' is not defined",
     "output_type": "error",
     "traceback": [
      "\u001b[0;31m---------------------------------------------------------------------------\u001b[0m",
      "\u001b[0;31mNameError\u001b[0m                                 Traceback (most recent call last)",
      "Cell \u001b[0;32mIn[19], line 29\u001b[0m\n\u001b[1;32m     26\u001b[0m     user_card\u001b[38;5;241m.\u001b[39mappend(deal_card())\n\u001b[1;32m     27\u001b[0m     computer_card\u001b[38;5;241m.\u001b[39mappend(deal_card())\n\u001b[0;32m---> 29\u001b[0m \u001b[38;5;28;01mwhile\u001b[39;00m \u001b[38;5;129;01mnot\u001b[39;00m \u001b[43mgame_is_over\u001b[49m:\n\u001b[1;32m     30\u001b[0m     user_score \u001b[38;5;241m=\u001b[39m calculater_score(user_card)\n\u001b[1;32m     31\u001b[0m     computer_score\u001b[38;5;241m=\u001b[39mcalculater_score(computer_card)\n",
      "\u001b[0;31mNameError\u001b[0m: name 'game_is_over' is not defined"
     ]
    }
   ],
   "source": [
    "def deal_card():\n",
    "    cards=[11,2,3,4,5,6,7,8,9,10,10,10,10]\n",
    "    card=random.choice(cards)\n",
    "    return cards\n",
    "\n",
    "def calculater_score(computer_card):\n",
    "    if sum(cards)==21 and len(cards)==2:\n",
    "        return 0\n",
    "\n",
    "    if 11 in cards and sum(cards)>21:\n",
    "        cards.remove(11)\n",
    "        cards.appends(1)\n",
    "    return sum(cards)                \n",
    "    \n",
    "\n",
    "def compare(user_score,computer_score)\n",
    "\n",
    "user_card=[]\n",
    "computer_card=[]\n",
    "computer_score=-1\n",
    "user_score=-1\n",
    "is_game_over=False\n",
    "\n",
    "for _ in range(2):\n",
    "    #new_card=deal_card()\n",
    "    #user_card=append(new_card)\n",
    "    user_card.append(deal_card())\n",
    "    computer_card.append(deal_card())\n",
    "\n",
    "while not game_is_over:\n",
    "    user_score = calculater_score(user_card)\n",
    "    computer_score=calculater_score(computer_card)\n",
    "    print(f\"Your card {user_card},current score{user_score}\")\n",
    "    print(f\"Computer's first card {computer_card[0]}\")\n",
    "\n",
    "\n",
    "\n",
    "    if user_score==0 or compurt_score==0 or user_score>21:\n",
    "        is_game_over=True\n",
    "\n",
    "    else:\n",
    "        user_should_deal=input(\"Type 'y' to another card and 'n' for pass\")\n",
    "        if  user_should_deal=='y':\n",
    "            user_card.append(deal_cards())\n",
    "\n",
    "        else:\n",
    "            is_game_over=True\n",
    "\n",
    "while compuer_score!=0 and compuer_score<17:\n",
    "    computer_score.append(deal_card())\n",
    "    computer_score=calculater_score(computer_card)"
   ]
  },
  {
   "cell_type": "code",
   "execution_count": null,
   "id": "b72bc30a-eb8e-4f0f-98f9-d2ec365e4fa8",
   "metadata": {},
   "outputs": [],
   "source": []
  },
  {
   "cell_type": "code",
   "execution_count": null,
   "id": "5426fa50-2988-4304-99aa-3632b1d266fa",
   "metadata": {},
   "outputs": [],
   "source": []
  }
 ],
 "metadata": {
  "kernelspec": {
   "display_name": "tf-metal",
   "language": "python",
   "name": "tf-metal"
  },
  "language_info": {
   "codemirror_mode": {
    "name": "ipython",
    "version": 3
   },
   "file_extension": ".py",
   "mimetype": "text/x-python",
   "name": "python",
   "nbconvert_exporter": "python",
   "pygments_lexer": "ipython3",
   "version": "3.10.13"
  }
 },
 "nbformat": 4,
 "nbformat_minor": 5
}
