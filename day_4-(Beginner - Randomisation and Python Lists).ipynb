{
 "cells": [
  {
   "cell_type": "markdown",
   "id": "924a708a-75a8-4e3d-8165-63e404ca0bab",
   "metadata": {},
   "source": [
    "Random Module"
   ]
  },
  {
   "cell_type": "code",
   "execution_count": 1,
   "id": "ae396a5d-cdcd-4328-98bb-980f5a974514",
   "metadata": {},
   "outputs": [],
   "source": [
    "import random"
   ]
  },
  {
   "cell_type": "code",
   "execution_count": 58,
   "id": "b3efad27-6339-43cf-a9df-837d7425a5a1",
   "metadata": {},
   "outputs": [
    {
     "name": "stdout",
     "output_type": "stream",
     "text": [
      "0.2640687296962111\n"
     ]
    }
   ],
   "source": [
    "#0.0 <= X <= 1.0\n",
    "random_0_to_1=random.random()\n",
    "print(random_0_to_1)"
   ]
  },
  {
   "cell_type": "code",
   "execution_count": 56,
   "id": "3bce0f1a-61c5-4c66-93e4-8473289e61a8",
   "metadata": {},
   "outputs": [
    {
     "name": "stdout",
     "output_type": "stream",
     "text": [
      "4.124172584292633\n"
     ]
    }
   ],
   "source": [
    "random_0_to_1=random.random()*10\n",
    "print(random_0_to_1)"
   ]
  },
  {
   "cell_type": "code",
   "execution_count": 57,
   "id": "d34912f2-20f5-41c2-958f-c83f806a4aa0",
   "metadata": {},
   "outputs": [
    {
     "name": "stdout",
     "output_type": "stream",
     "text": [
      "6\n"
     ]
    }
   ],
   "source": [
    "#Functions for integers\n",
    "#random.randint(a, b)\n",
    "#a is start point and b is end point\n",
    "#a <= N <= b\n",
    "random_int=random.randint(1,10)\n",
    "print(random_int)"
   ]
  },
  {
   "cell_type": "code",
   "execution_count": 60,
   "id": "73c6ddaf-fd5c-49dc-a469-b251e04ea394",
   "metadata": {},
   "outputs": [
    {
     "name": "stdout",
     "output_type": "stream",
     "text": [
      "5.282131240983467\n"
     ]
    }
   ],
   "source": [
    "#Functions for float\n",
    "#random.uniform(a, b)\n",
    "#a is start point and b is end point\n",
    "#a <= N <= b\n",
    "random_float=random.uniform(1,10)\n",
    "print(random_float)"
   ]
  },
  {
   "cell_type": "markdown",
   "id": "939a37fa-452c-41c0-b176-2d33b79163f7",
   "metadata": {},
   "source": [
    "Heads or Tails"
   ]
  },
  {
   "cell_type": "code",
   "execution_count": 74,
   "id": "efd3f9ed-948e-4916-a3cb-ec76a72a5b3d",
   "metadata": {},
   "outputs": [
    {
     "name": "stdout",
     "output_type": "stream",
     "text": [
      "Tails\n"
     ]
    }
   ],
   "source": [
    "random_heads_or_tails=random.randint(0,1)\n",
    "if random_heads_or_tails == 1:\n",
    "    print(\"Heads\")\n",
    "else:\n",
    "    print(\"Tails\")"
   ]
  },
  {
   "cell_type": "markdown",
   "id": "adfd06a5-0fd0-4c32-8480-ce74596c74a0",
   "metadata": {},
   "source": [
    "List"
   ]
  },
  {
   "cell_type": "code",
   "execution_count": 75,
   "id": "ef531c1b-b5ff-4f55-9e3a-a984c4e78314",
   "metadata": {},
   "outputs": [],
   "source": [
    "states = [\"Alabama\", \"Alaska\", \"Arizona\", \"Arkansas\", \"California\", \"Colorado\",\"Connecticut\", \"Delaware\", \"Florida\", \"Georgia\", \"Hawaii\", \"Idaho\",\n",
    "\"Illinois\", \"Indiana\", \"Iowa\", \"Kansas\", \"Kentucky\", \"Louisiana\",\"Maine\", \"Maryland\", \"Massachusetts\", \"Michigan\", \"Minnesota\",\"Mississippi\", \"Missouri\", \"Montana\", \"Nebraska\", \"Nevada\",\n",
    "\"New Hampshire\", \"New Jersey\", \"New Mexico\", \"New York\",\"North Carolina\", \"North Dakota\", \"Ohio\", \"Oklahoma\", \"Oregon\",\"Pennsylvania\", \"Rhode Island\", \"South Carolina\", \"South Dakota\",\"Tennessee\", \"Texas\", \"Utah\", \"Vermont\", \"Virginia\", \"Washington\",\n",
    "\"West Virginia\", \"Wisconsin\", \"Wyoming\"]\n"
   ]
  },
  {
   "cell_type": "code",
   "execution_count": 76,
   "id": "ce1be98d-a5f5-4694-a7fa-af2127286eaf",
   "metadata": {},
   "outputs": [
    {
     "name": "stdout",
     "output_type": "stream",
     "text": [
      "Alabama\n"
     ]
    }
   ],
   "source": [
    "print(states[0])"
   ]
  },
  {
   "cell_type": "code",
   "execution_count": 77,
   "id": "4c0e3533-7e9c-4865-8a38-0cf32427a2a1",
   "metadata": {},
   "outputs": [
    {
     "name": "stdout",
     "output_type": "stream",
     "text": [
      "Alaska\n"
     ]
    }
   ],
   "source": [
    "print(states[1])"
   ]
  },
  {
   "cell_type": "code",
   "execution_count": 78,
   "id": "af23189c-7a93-46be-9838-ec6a5867fd8c",
   "metadata": {},
   "outputs": [
    {
     "name": "stdout",
     "output_type": "stream",
     "text": [
      "Arizona\n"
     ]
    }
   ],
   "source": [
    "print(states[2])"
   ]
  },
  {
   "cell_type": "code",
   "execution_count": 79,
   "id": "4528374c-3c45-4b59-97c6-f149abeadba6",
   "metadata": {},
   "outputs": [
    {
     "name": "stdout",
     "output_type": "stream",
     "text": [
      "Arkansas\n"
     ]
    }
   ],
   "source": [
    "print(states[3])"
   ]
  },
  {
   "cell_type": "code",
   "execution_count": 80,
   "id": "3950bd19-72c4-4f9d-a5ac-b27f4413dcda",
   "metadata": {},
   "outputs": [
    {
     "name": "stdout",
     "output_type": "stream",
     "text": [
      "Wyoming\n"
     ]
    }
   ],
   "source": [
    "print(states[-1])"
   ]
  },
  {
   "cell_type": "code",
   "execution_count": 81,
   "id": "3b16875d-0a0c-4a7d-8b97-3bb6e43c290d",
   "metadata": {},
   "outputs": [
    {
     "name": "stdout",
     "output_type": "stream",
     "text": [
      "Wisconsin\n"
     ]
    }
   ],
   "source": [
    "print(states[-2])"
   ]
  },
  {
   "cell_type": "code",
   "execution_count": 82,
   "id": "8ee67aa2-63a8-4e98-90d5-47ae8c8a07b2",
   "metadata": {},
   "outputs": [
    {
     "name": "stdout",
     "output_type": "stream",
     "text": [
      "West Virginia\n"
     ]
    }
   ],
   "source": [
    "print(states[-3])"
   ]
  },
  {
   "cell_type": "code",
   "execution_count": 84,
   "id": "bcf96cc6-2c05-4f85-9881-38da5861234e",
   "metadata": {},
   "outputs": [
    {
     "name": "stdout",
     "output_type": "stream",
     "text": [
      "['Alabama', 'Aleska', 'Arizona', 'Arkansas', 'California', 'Colorado', 'Connecticut', 'Delaware', 'Florida', 'Georgia', 'Hawaii', 'Idaho', 'Illinois', 'Indiana', 'Iowa', 'Kansas', 'Kentucky', 'Louisiana', 'Maine', 'Maryland', 'Massachusetts', 'Michigan', 'Minnesota', 'Mississippi', 'Missouri', 'Montana', 'Nebraska', 'Nevada', 'New Hampshire', 'New Jersey', 'New Mexico', 'New York', 'North Carolina', 'North Dakota', 'Ohio', 'Oklahoma', 'Oregon', 'Pennsylvania', 'Rhode Island', 'South Carolina', 'South Dakota', 'Tennessee', 'Texas', 'Utah', 'Vermont', 'Virginia', 'Washington', 'West Virginia', 'Wisconsin', 'Wyoming']\n"
     ]
    }
   ],
   "source": [
    "states[1]=\"Aleska\"\n",
    "print(states)"
   ]
  },
  {
   "cell_type": "code",
   "execution_count": 86,
   "id": "34a313f9-eee1-41eb-b371-675115e7a5aa",
   "metadata": {},
   "outputs": [
    {
     "name": "stdout",
     "output_type": "stream",
     "text": [
      "['Alabama', 'Aleska', 'Arizona', 'Arkansas', 'California', 'Colorado', 'Connecticut', 'Delaware', 'Florida', 'Georgia', 'Hawaii', 'Idaho', 'Illinois', 'Indiana', 'Iowa', 'Kansas', 'Kentucky', 'Louisiana', 'Maine', 'Maryland', 'Massachusetts', 'Michigan', 'Minnesota', 'Mississippi', 'Missouri', 'Montana', 'Nebraska', 'Nevada', 'New Hampshire', 'New Jersey', 'New Mexico', 'New York', 'North Carolina', 'North Dakota', 'Ohio', 'Oklahoma', 'Oregon', 'Pennsylvania', 'Rhode Island', 'South Carolina', 'South Dakota', 'Tennessee', 'Texas', 'Utah', 'Vermont', 'Virginia', 'Washington', 'West Virginia', 'Wisconsin', 'Wyoming', 'canada']\n"
     ]
    }
   ],
   "source": [
    "states.append(\"canada\")\n",
    "print(states)"
   ]
  },
  {
   "cell_type": "code",
   "execution_count": 93,
   "id": "05e3936a-4303-4214-a9f1-10c67a6c4869",
   "metadata": {},
   "outputs": [
    {
     "name": "stdout",
     "output_type": "stream",
     "text": [
      "Missouri\n"
     ]
    }
   ],
   "source": [
    "# Single random element from a sequence\n",
    "random_from_the_list=random.choice(states)\n",
    "print(random_from_the_list)"
   ]
  },
  {
   "cell_type": "markdown",
   "id": "7ea6eaf1-dbe9-44a8-9d4e-acca3f62c54e",
   "metadata": {},
   "source": [
    "Who will pay the bill?"
   ]
  },
  {
   "cell_type": "code",
   "execution_count": 101,
   "id": "db848c97-147a-4661-b02f-28050515da92",
   "metadata": {},
   "outputs": [
    {
     "name": "stdout",
     "output_type": "stream",
     "text": [
      "Charlie\n"
     ]
    }
   ],
   "source": [
    "frinds = [\"Alice\", \"Bob\", \"Charlie\", \"Diana\", \"Ethan\"]\n",
    "print(random.choice(friends))"
   ]
  },
  {
   "cell_type": "code",
   "execution_count": 103,
   "id": "e8ddf62c-1407-45ac-a91d-04889df945ff",
   "metadata": {},
   "outputs": [
    {
     "name": "stdout",
     "output_type": "stream",
     "text": [
      "Bob\n"
     ]
    }
   ],
   "source": [
    "random_int=random.randint(0,4)\n",
    "print(frinds[random_int])"
   ]
  },
  {
   "cell_type": "code",
   "execution_count": 105,
   "id": "b22372b6-22c7-469e-bcf4-d5c6cf799ba7",
   "metadata": {},
   "outputs": [
    {
     "name": "stdout",
     "output_type": "stream",
     "text": [
      "51\n"
     ]
    }
   ],
   "source": [
    "number_of_states=len(states)\n",
    "print(number_of_states)"
   ]
  },
  {
   "cell_type": "code",
   "execution_count": 106,
   "id": "eebee3f4-1208-46f8-9065-758c7d10e529",
   "metadata": {},
   "outputs": [
    {
     "name": "stdout",
     "output_type": "stream",
     "text": [
      "canada\n"
     ]
    }
   ],
   "source": [
    "print(states[number_of_states-1])"
   ]
  },
  {
   "cell_type": "code",
   "execution_count": 110,
   "id": "031d8cac-b55a-4ee8-aad5-3c0153f2ad64",
   "metadata": {},
   "outputs": [
    {
     "name": "stdout",
     "output_type": "stream",
     "text": [
      "[['Apple', 'Banana', 'Cherry', 'Date', 'Elderberry', 'Fig', 'Grape', 'Banana', 'Cherry', 'Date', 'Elderberry', 'Grape'], ['Carrot', 'Broccoli', 'Spinach', 'Potato', 'Cauliflower']]\n"
     ]
    }
   ],
   "source": [
    "fruits = [\"Apple\",\"Banana\",\"Cherry\",\"Date\",\"Elderberry\",\"Fig\",\"Grape\",\"Banana\",\"Cherry\",\"Date\",\"Elderberry\",\"Grape\"]\n",
    "vegetables = [\"Carrot\",\"Broccoli\",\"Spinach\",\"Potato\",\"Cauliflower\"]\n",
    "dirty_dozen=[fruits,vegetables]\n",
    "print(dirty_dozen)"
   ]
  },
  {
   "cell_type": "markdown",
   "id": "9be0d0d9-d2df-44b4-91f6-5bbeee479625",
   "metadata": {},
   "source": [
    "Project: Rock Paper Scissors"
   ]
  },
  {
   "cell_type": "code",
   "execution_count": null,
   "id": "dfc37a6d-70f4-433f-a917-4829a964561f",
   "metadata": {},
   "outputs": [],
   "source": [
    "print(\"What do you choose? Type 0 for Rock, 1 for Paper, 2 for Scissors.\")\n",
    "given = int(input(\"Enter your input: \"))\n",
    "step_1 = random.randint(0, 2)\n"
   ]
  }
 ],
 "metadata": {
  "kernelspec": {
   "display_name": "tf-metal",
   "language": "python",
   "name": "tf-metal"
  },
  "language_info": {
   "codemirror_mode": {
    "name": "ipython",
    "version": 3
   },
   "file_extension": ".py",
   "mimetype": "text/x-python",
   "name": "python",
   "nbconvert_exporter": "python",
   "pygments_lexer": "ipython3",
   "version": "3.10.13"
  }
 },
 "nbformat": 4,
 "nbformat_minor": 5
}
