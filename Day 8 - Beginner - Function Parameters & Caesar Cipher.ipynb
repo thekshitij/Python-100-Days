{
 "cells": [
  {
   "cell_type": "code",
   "execution_count": 3,
   "id": "613e6a42-48e4-4076-b8ad-d0a6f08db4aa",
   "metadata": {},
   "outputs": [
    {
     "name": "stdout",
     "output_type": "stream",
     "text": [
      "Hi kshitij\n",
      "How are you kshitij?\n",
      "Itn't the weather is nice?\n"
     ]
    }
   ],
   "source": [
    "def greet():\n",
    "    print(\"Hi kshitij\")\n",
    "    print(\"How are you kshitij?\")\n",
    "    print(\"Itn't the weather is nice?\")\n",
    "\n",
    "\n",
    "greet()"
   ]
  },
  {
   "cell_type": "markdown",
   "id": "1ab294e5-7414-400f-a114-d9fd1c47e641",
   "metadata": {},
   "source": [
    "Functions with input"
   ]
  },
  {
   "cell_type": "code",
   "execution_count": 6,
   "id": "2c28606f-4c59-4bf0-b34f-353e221630c9",
   "metadata": {},
   "outputs": [
    {
     "name": "stdout",
     "output_type": "stream",
     "text": [
      "Hi Kshitij\n",
      "How are you Kshitij?\n"
     ]
    }
   ],
   "source": [
    "def greet_with_name(name):\n",
    "    print(f\"Hi {name}\")\n",
    "    print(f\"How are you {name}?\")\n",
    "\n",
    "greet_with_name(\"Kshitij\")"
   ]
  },
  {
   "cell_type": "code",
   "execution_count": 7,
   "id": "90f832c3-39fb-42cd-b003-b06c72e45d1a",
   "metadata": {},
   "outputs": [
    {
     "ename": "IndentationError",
     "evalue": "unexpected indent (956735026.py, line 2)",
     "output_type": "error",
     "traceback": [
      "\u001b[0;36m  Cell \u001b[0;32mIn[7], line 2\u001b[0;36m\u001b[0m\n\u001b[0;31m    |        |\u001b[0m\n\u001b[0m    ^\u001b[0m\n\u001b[0;31mIndentationError\u001b[0m\u001b[0;31m:\u001b[0m unexpected indent\n"
     ]
    }
   ],
   "source": [
    "name=Kshitij\n",
    " |        |     \n",
    " |        |\n",
    " |    Argument\n",
    " |\n",
    "Parameter"
   ]
  },
  {
   "cell_type": "markdown",
   "id": "dbe9f5cd-5815-452a-9eab-a725fa1e1cc5",
   "metadata": {},
   "source": [
    "Positional Arguments"
   ]
  },
  {
   "cell_type": "code",
   "execution_count": 15,
   "id": "7a40658f-20a9-496d-96d0-25ba45529917",
   "metadata": {},
   "outputs": [
    {
     "name": "stdout",
     "output_type": "stream",
     "text": [
      "Hi Kshitij\n",
      "What is like in Varanasi?\n"
     ]
    }
   ],
   "source": [
    "#Function with more than one input.\n",
    "def greet_with(name,location):\n",
    "    print(f\"Hi {name}\")\n",
    "    print(f\"What is like in {location}?\")\n",
    "\n",
    "greet_with(\"Kshitij\",\"Varanasi\")\n"
   ]
  },
  {
   "cell_type": "code",
   "execution_count": 16,
   "id": "f1ac4227-62e3-4344-af8f-b10ea16850e4",
   "metadata": {},
   "outputs": [
    {
     "name": "stdout",
     "output_type": "stream",
     "text": [
      "Hi Varanasi\n",
      "What is like in Kshitij?\n"
     ]
    }
   ],
   "source": [
    "def greet_with(name,location):\n",
    "    print(f\"Hi {name}\")\n",
    "    print(f\"What is like in {location}?\")\n",
    "\n",
    "greet_with(\"Varanasi\",\"Kshitij\")\n"
   ]
  },
  {
   "cell_type": "markdown",
   "id": "e022b819-c118-4e77-a593-9fd5b73623d5",
   "metadata": {},
   "source": [
    "Keyword Arguments"
   ]
  },
  {
   "cell_type": "code",
   "execution_count": 17,
   "id": "a7a8d65e-2b0b-46c2-8315-1af9fde504f0",
   "metadata": {},
   "outputs": [
    {
     "name": "stdout",
     "output_type": "stream",
     "text": [
      "Hi Kshitij\n",
      "What is like in Varanasi?\n"
     ]
    }
   ],
   "source": [
    "def greet_with(name,location):\n",
    "    print(f\"Hi {name}\")\n",
    "    print(f\"What is like in {location}?\")\n",
    "\n",
    "greet_with(name=\"Kshitij\",location=\"Varanasi\")"
   ]
  },
  {
   "cell_type": "code",
   "execution_count": 18,
   "id": "f46c6d03-0d6d-4918-a28b-f1097c06fb10",
   "metadata": {},
   "outputs": [
    {
     "name": "stdout",
     "output_type": "stream",
     "text": [
      "Hi Kshitij\n",
      "What is like in Varanasi?\n"
     ]
    }
   ],
   "source": [
    "def greet_with(name,location):\n",
    "    print(f\"Hi {name}\")\n",
    "    print(f\"What is like in {location}?\")\n",
    "\n",
    "greet_with(location=\"Varanasi\",name=\"Kshitij\")\n"
   ]
  },
  {
   "cell_type": "markdown",
   "id": "31198a20-a7ab-48c0-b1ca-36cad3226952",
   "metadata": {},
   "source": [
    "Love Calculator"
   ]
  },
  {
   "cell_type": "code",
   "execution_count": 19,
   "id": "dea13121-b5bb-4c75-b923-003a4d86d2e4",
   "metadata": {},
   "outputs": [
    {
     "name": "stdout",
     "output_type": "stream",
     "text": [
      "42\n"
     ]
    }
   ],
   "source": [
    "def calculate_love_score(name1, name2):\n",
    "    combined_names = name1 + name2\n",
    "    lower_names = combined_names.lower()\n",
    "    \n",
    "    t = lower_names.count(\"t\")\n",
    "    r = lower_names.count(\"r\")\n",
    "    u = lower_names.count(\"u\")\n",
    "    e = lower_names.count(\"e\")\n",
    "    first_digit = t + r + u + e\n",
    "    \n",
    "    l = lower_names.count(\"l\")\n",
    "    o = lower_names.count(\"o\")\n",
    "    v = lower_names.count(\"v\")\n",
    "    e = lower_names.count(\"e\")\n",
    "    second_digit = l + o + v + e\n",
    "    \n",
    "    \n",
    "    score = int(str(first_digit) + str(second_digit))\n",
    "    print(score)\n",
    "    \n",
    "calculate_love_score(\"Kanye West\", \"Kim Kardashian\")"
   ]
  },
  {
   "cell_type": "code",
   "execution_count": null,
   "id": "d83d1ac2-7151-42d8-a80c-3d4d7999a8c3",
   "metadata": {},
   "outputs": [
    {
     "name": "stdin",
     "output_type": "stream",
     "text": [
      "Type 'encode' to encrypt, type 'decoad' to decrypt :- \n",
      " encode\n",
      "Type your message:- \n",
      " hello world!\n",
      "Type the shift number:- \n",
      " 2\n"
     ]
    },
    {
     "name": "stdout",
     "output_type": "stream",
     "text": [
      "Hear is encode result:- jgnnq yqtnf!\n"
     ]
    }
   ],
   "source": [
    "alphabed=['a', 'b', 'c', 'd', 'e', 'f', 'g', 'h', 'i', 'j', 'k', 'l', 'm', 'n', 'o', 'p', 'q', 'r', 's', 't', 'u', 'v', 'w', 'x', 'y', 'z']\n",
    "\n",
    "\n",
    "def caesar(original_text,shift_amount,encode_or_decode):\n",
    "    output_text=\"\"\n",
    "\n",
    "    if encode_or_decode==\"decode\":\n",
    "            shift_amount *= -1\n",
    "    for letter in original_text:\n",
    "\n",
    "        if letter not in alphabed:\n",
    "            output_text+=letter\n",
    "\n",
    "        else:\n",
    "            shifted_position=alphabed.index(letter) + shift_amount\n",
    "            shifted_position %= len(alphabed)\n",
    "            output_text +=alphabed[shifted_position]\n",
    "    print(f\"Hear is {encode_or_decode} result:- {output_text}\")\n",
    "\n",
    "should_continue=True\n",
    "while should_continue:\n",
    "    direction=input(\"Type 'encode' to encrypt, type 'decoad' to decrypt :- \\n\").lower()\n",
    "    text=input(\"Type your message:- \\n\").lower()\n",
    "    shift=int(input(\"Type the shift number:- \\n\"))\n",
    "    caesar(original_text=text, shift_amount=shift, encode_or_decode=direction)\n",
    "\n",
    "    restart=input(f\"Type 'yes' if you want to go again, Otherwise type no:- /n\").lower()\n",
    "    if restart==\"no\":\n",
    "        should_continue=False\n",
    "        print(\"Goodbye\")\n",
    "        "
   ]
  },
  {
   "cell_type": "code",
   "execution_count": null,
   "id": "3f1b40cd-ad18-4f8f-baf3-14e11d2f742b",
   "metadata": {},
   "outputs": [],
   "source": [
    "\n"
   ]
  },
  {
   "cell_type": "code",
   "execution_count": null,
   "id": "2febc5dc-02c1-46b5-836e-a8d60a80e20c",
   "metadata": {},
   "outputs": [],
   "source": []
  }
 ],
 "metadata": {
  "kernelspec": {
   "display_name": "tf-metal",
   "language": "python",
   "name": "tf-metal"
  },
  "language_info": {
   "codemirror_mode": {
    "name": "ipython",
    "version": 3
   },
   "file_extension": ".py",
   "mimetype": "text/x-python",
   "name": "python",
   "nbconvert_exporter": "python",
   "pygments_lexer": "ipython3",
   "version": "3.10.13"
  }
 },
 "nbformat": 4,
 "nbformat_minor": 5
}
