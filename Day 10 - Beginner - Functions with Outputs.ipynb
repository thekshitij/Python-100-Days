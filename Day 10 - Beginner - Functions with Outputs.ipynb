{
 "cells": [
  {
   "cell_type": "markdown",
   "id": "a0402b6d-1e03-44eb-82e2-427c108b8baa",
   "metadata": {},
   "source": [
    "#### Functions with Outputs"
   ]
  },
  {
   "cell_type": "code",
   "execution_count": 7,
   "id": "cfc56e0d-8b95-46dd-a18f-d416b898edc7",
   "metadata": {},
   "outputs": [
    {
     "data": {
      "text/plain": [
       "6"
      ]
     },
     "execution_count": 7,
     "metadata": {},
     "output_type": "execute_result"
    }
   ],
   "source": [
    "def my_function():\n",
    "    result = 3*2\n",
    "    return result\n",
    "\n",
    "my_function()\n"
   ]
  },
  {
   "cell_type": "code",
   "execution_count": 8,
   "id": "b2f45379-6088-42af-a403-9bc120a3b7a0",
   "metadata": {},
   "outputs": [
    {
     "data": {
      "text/plain": [
       "6"
      ]
     },
     "execution_count": 8,
     "metadata": {},
     "output_type": "execute_result"
    }
   ],
   "source": [
    "def my_function():\n",
    "    return 3*2\n",
    "    \n",
    "\n",
    "my_function()"
   ]
  },
  {
   "cell_type": "code",
   "execution_count": 17,
   "id": "18cd4cc9-5a6b-4727-abf6-9509f1934600",
   "metadata": {},
   "outputs": [
    {
     "name": "stdout",
     "output_type": "stream",
     "text": [
      "Kshitij Chaudhary\n"
     ]
    }
   ],
   "source": [
    "def formate_name(f_name, l_name):\n",
    "    formated_f_name=f_name.title()\n",
    "    formated_l_name=l_name.title()\n",
    "    print(f\"{formated_f_name} {formated_l_name}\")\n",
    "\n",
    "formate_name(\"kshitij\",\"chaudhary\")\n",
    "    "
   ]
  },
  {
   "cell_type": "code",
   "execution_count": 33,
   "id": "cb2ddc6a-fe44-46b7-b559-f8d8ba13f0c9",
   "metadata": {},
   "outputs": [
    {
     "name": "stdout",
     "output_type": "stream",
     "text": [
      "25\n"
     ]
    },
    {
     "data": {
      "text/plain": [
       "'Kshitij'"
      ]
     },
     "execution_count": 33,
     "metadata": {},
     "output_type": "execute_result"
    }
   ],
   "source": [
    "def function_1(num):\n",
    "    return num * num\n",
    "\n",
    "def function_2(text):\n",
    "    return text.title()\n",
    "\n",
    "print(function_1(5))\n",
    "\n",
    "\n",
    "function_2(\"kshitij\")\n",
    "\n",
    "\n",
    "#print(output)"
   ]
  },
  {
   "cell_type": "code",
   "execution_count": 23,
   "id": "b455b7e0-baca-44da-a786-ef570f0cd5f2",
   "metadata": {},
   "outputs": [
    {
     "data": {
      "text/plain": [
       "'Kshitij Chaudhary'"
      ]
     },
     "execution_count": 23,
     "metadata": {},
     "output_type": "execute_result"
    }
   ],
   "source": [
    "def formate_name(f_name, l_name):\n",
    "    formated_f_name=f_name.title()\n",
    "    formated_l_name=l_name.title()\n",
    "    return f\"{formated_f_name} {formated_l_name}\"\n",
    "\n",
    "formate_name(\"kshitij\",\"chaudhary\")\n",
    "\n",
    "    "
   ]
  },
  {
   "cell_type": "code",
   "execution_count": 22,
   "id": "94c983b4-485a-4009-b056-a0864ba330a0",
   "metadata": {},
   "outputs": [
    {
     "name": "stdout",
     "output_type": "stream",
     "text": [
      "Kshitij Chaudhary\n"
     ]
    }
   ],
   "source": [
    "def formate_name(f_name, l_name):\n",
    "    formated_f_name=f_name.title()\n",
    "    formated_l_name=l_name.title()\n",
    "    return f\"{formated_f_name} {formated_l_name}\"\n",
    "\n",
    "output=formate_name(\"kshitij\",\"chaudhary\")\n",
    "print(output)"
   ]
  },
  {
   "cell_type": "code",
   "execution_count": 44,
   "id": "d05ed0c9-933c-4b09-bf0e-d50cd17b070a",
   "metadata": {},
   "outputs": [
    {
     "name": "stdin",
     "output_type": "stream",
     "text": [
      "What is your first name?:- Kshitij\n",
      "What is your last name?:- \n"
     ]
    },
    {
     "name": "stdout",
     "output_type": "stream",
     "text": [
      "Result :-Kshitij \n"
     ]
    }
   ],
   "source": [
    "def formate_name(f_name, l_name):\n",
    "    if f_name ==\" \" or l_name==\" \":\n",
    "        return \"You don't provide any valid input.\"\n",
    "    \n",
    "    \n",
    "    formated_f_name=f_name.title()\n",
    "    formated_l_name=l_name.title()\n",
    "    return f\"Result :-{formated_f_name} {formated_l_name}\"\n",
    "\n",
    "print(formate_name(input(\"What is your first name?:-\"),input(\"What is your last name?:-\")))\n"
   ]
  },
  {
   "cell_type": "markdown",
   "id": "4a28c0a2-9f57-4b0d-8c96-f3a3bb5619a4",
   "metadata": {},
   "source": [
    "### Leap Year"
   ]
  },
  {
   "cell_type": "code",
   "execution_count": 45,
   "id": "4cf56c6b-20a5-45ea-abb2-6b07a415bad6",
   "metadata": {},
   "outputs": [
    {
     "name": "stdout",
     "output_type": "stream",
     "text": [
      "True\n",
      "False\n",
      "True\n",
      "False\n"
     ]
    }
   ],
   "source": [
    "def is_leap_year(year):\n",
    "    \n",
    "    if year % 4 == 0:\n",
    "        if year % 100 == 0:\n",
    "            if year % 400 == 0:\n",
    "                return True\n",
    "            else:\n",
    "                return False\n",
    "        else:\n",
    "            return True\n",
    "    else:\n",
    "        return False\n",
    "\n",
    "# Test cases\n",
    "print(is_leap_year(2400))  # Expected output: True\n",
    "print(is_leap_year(1989))  # Expected output: False\n",
    "print(is_leap_year(2000))  # Expected output: True\n",
    "print(is_leap_year(2100))  # Expected output: False"
   ]
  },
  {
   "cell_type": "markdown",
   "id": "09b48fcd-ce81-45de-9434-545f26e51d4c",
   "metadata": {},
   "source": [
    "###  Calculator Project"
   ]
  },
  {
   "cell_type": "code",
   "execution_count": 51,
   "id": "8ce2bea4-aec1-4d91-8ac3-b7032f5b05db",
   "metadata": {},
   "outputs": [
    {
     "ename": "SyntaxError",
     "evalue": "invalid syntax. Maybe you meant '==' or ':=' instead of '='? (3774992782.py, line 36)",
     "output_type": "error",
     "traceback": [
      "\u001b[0;36m  Cell \u001b[0;32mIn[51], line 36\u001b[0;36m\u001b[0m\n\u001b[0;31m    if choice=\"y\":\u001b[0m\n\u001b[0m       ^\u001b[0m\n\u001b[0;31mSyntaxError\u001b[0m\u001b[0;31m:\u001b[0m invalid syntax. Maybe you meant '==' or ':=' instead of '='?\n"
     ]
    }
   ],
   "source": [
    "def add(n1 ,n2):\n",
    "    return n1+n2\n",
    "\n",
    "def substract(n1, n2):\n",
    "    return n1-n2\n",
    "\n",
    "def multiply(n1,n2):\n",
    "    return n1*n2\n",
    "\n",
    "def divide(n1,n2):\n",
    "    return n1/n2\n",
    "\n",
    "operatinos={\n",
    "    \"+\":add,\n",
    "    \"-\":substract,\n",
    "    \"*\":multiply,\n",
    "    \"/\":divide,\n",
    "\n",
    "}\n",
    "n1=float(input(\"What is the first number:-\"))\n",
    "\n",
    "should_accumulate=True\n",
    "while should_accumulate:\n",
    "    for symbol in operatinos:\n",
    "        print(symbol)\n",
    "\n",
    "    operations_symbol=input(\"What is the operation:-\")\n",
    "\n",
    "    n2=float(input(\"What is the second number:-\"))\n",
    "\n",
    "    answer=(operatinos[operations_symbol](n1,n2))\n",
    "\n",
    "    print(f\"{n1} {operations_symbol} {n2} = {answer}\")\n",
    "\n",
    "    choice=input(f\"Type 'y' to continue calcuation with {answer} or type 'n' to start new calcuation :-\")\n",
    "    if choice=\"y\":\n",
    "        n1=answer\n",
    "\n",
    "    else:\n",
    "        should_accumulate=False\n",
    "\n"
   ]
  },
  {
   "cell_type": "code",
   "execution_count": null,
   "id": "7d761f6f-a4ba-4abf-81a4-9036217b41b8",
   "metadata": {},
   "outputs": [],
   "source": []
  }
 ],
 "metadata": {
  "kernelspec": {
   "display_name": "tf-metal",
   "language": "python",
   "name": "tf-metal"
  },
  "language_info": {
   "codemirror_mode": {
    "name": "ipython",
    "version": 3
   },
   "file_extension": ".py",
   "mimetype": "text/x-python",
   "name": "python",
   "nbconvert_exporter": "python",
   "pygments_lexer": "ipython3",
   "version": "3.10.13"
  }
 },
 "nbformat": 4,
 "nbformat_minor": 5
}
