{
 "cells": [
  {
   "cell_type": "markdown",
   "id": "1501f22e-3554-4345-a1af-28021440148c",
   "metadata": {},
   "source": [
    "### Namespaces: Local vs. Global Scope"
   ]
  },
  {
   "cell_type": "code",
   "execution_count": 6,
   "id": "3f7579be-70f6-429b-99b0-cad9a63f1a46",
   "metadata": {},
   "outputs": [
    {
     "name": "stdout",
     "output_type": "stream",
     "text": [
      "17\n"
     ]
    }
   ],
   "source": [
    "#Local scope\n",
    "def student_score():\n",
    "    maths=17\n",
    "    print(maths)\n",
    "\n",
    "student_score()\n",
    "#print(Maths)"
   ]
  },
  {
   "cell_type": "code",
   "execution_count": 11,
   "id": "5b5434cf-5e1c-4f51-80d7-5f8a730e48f3",
   "metadata": {},
   "outputs": [
    {
     "ename": "NameError",
     "evalue": "name 'maths' is not defined",
     "output_type": "error",
     "traceback": [
      "\u001b[0;31m---------------------------------------------------------------------------\u001b[0m",
      "\u001b[0;31mNameError\u001b[0m                                 Traceback (most recent call last)",
      "Cell \u001b[0;32mIn[11], line 6\u001b[0m\n\u001b[1;32m      3\u001b[0m     \u001b[38;5;66;03m#print(maths)\u001b[39;00m\n\u001b[1;32m      5\u001b[0m student_score()\n\u001b[0;32m----> 6\u001b[0m \u001b[38;5;28mprint\u001b[39m(\u001b[43mmaths\u001b[49m)\n",
      "\u001b[0;31mNameError\u001b[0m: name 'maths' is not defined"
     ]
    }
   ],
   "source": [
    "\n",
    "def student_score():\n",
    "    maths=17\n",
    "    #print(maths)\n",
    "\n",
    "student_score()\n",
    "print(maths)"
   ]
  },
  {
   "cell_type": "code",
   "execution_count": 10,
   "id": "05cfa503-5369-4e2b-aada-a733d8b16ca8",
   "metadata": {},
   "outputs": [
    {
     "name": "stdout",
     "output_type": "stream",
     "text": [
      "75\n",
      "75\n"
     ]
    }
   ],
   "source": [
    "#Global Scope\n",
    "Physics=75\n",
    "\n",
    "def student_marks():\n",
    "    print(f\"{Physics}\")\n",
    "\n",
    "student_marks()\n",
    "print(Physics)"
   ]
  },
  {
   "cell_type": "code",
   "execution_count": 14,
   "id": "02f40920-a2b2-4759-adf6-9395f156c6be",
   "metadata": {},
   "outputs": [
    {
     "name": "stdout",
     "output_type": "stream",
     "text": [
      "Enemies inside the function1\n",
      "Enemies outside the function2\n"
     ]
    }
   ],
   "source": [
    "enemies=2\n",
    "\n",
    "def increase_enemies():\n",
    "    #global enemies\n",
    "    enemies =1\n",
    "    print(f\"Enemies inside the function{enemies}\")\n",
    "\n",
    "increase_enemies()\n",
    "print(f\"Enemies outside the function{enemies}\")"
   ]
  },
  {
   "cell_type": "code",
   "execution_count": 16,
   "id": "6ab14dc2-2d1d-4d56-803e-91a2ef9dc909",
   "metadata": {},
   "outputs": [
    {
     "name": "stdout",
     "output_type": "stream",
     "text": [
      "Enemies inside the function 4\n",
      "Enemies outside the function 4\n"
     ]
    }
   ],
   "source": [
    "enemies=3\n",
    "\n",
    "def increase_enemies():\n",
    "    global enemies\n",
    "    enemies +=1\n",
    "    print(f\"Enemies inside the function {enemies}\")\n",
    "\n",
    "increase_enemies()\n",
    "print(f\"Enemies outside the function {enemies}\")"
   ]
  },
  {
   "cell_type": "markdown",
   "id": "c7b528b7-1d26-450b-b6f6-ff40d49a74a6",
   "metadata": {},
   "source": [
    "### The Number Guessing Game"
   ]
  },
  {
   "cell_type": "code",
   "execution_count": null,
   "id": "79f1a3b7-d96f-4b0e-a3f0-5d4adc66443e",
   "metadata": {},
   "outputs": [
    {
     "name": "stdout",
     "output_type": "stream",
     "text": [
      "Welcome to the Number Guessing Game!\n",
      "I'm thinking of a number between 1 and 100.\n",
      "The correct answer is 17 (for debugging purposes).\n"
     ]
    },
    {
     "name": "stdin",
     "output_type": "stream",
     "text": [
      "Choose a difficulty. Type 'easy' or 'hard':  easy\n"
     ]
    },
    {
     "name": "stdout",
     "output_type": "stream",
     "text": [
      "You have 10 attempts to guess the number.\n"
     ]
    },
    {
     "name": "stdin",
     "output_type": "stream",
     "text": [
      "Make a guess:  23\n"
     ]
    },
    {
     "name": "stdout",
     "output_type": "stream",
     "text": [
      "Too high!\n",
      "You have 9 attempts remaining.\n"
     ]
    },
    {
     "name": "stdin",
     "output_type": "stream",
     "text": [
      "Make a guess:  15\n"
     ]
    },
    {
     "name": "stdout",
     "output_type": "stream",
     "text": [
      "Too low!\n",
      "You have 8 attempts remaining.\n"
     ]
    },
    {
     "name": "stdin",
     "output_type": "stream",
     "text": [
      "Make a guess:  20\n"
     ]
    },
    {
     "name": "stdout",
     "output_type": "stream",
     "text": [
      "Too high!\n",
      "You have 7 attempts remaining.\n"
     ]
    },
    {
     "name": "stdin",
     "output_type": "stream",
     "text": [
      "Make a guess:  21\n"
     ]
    },
    {
     "name": "stdout",
     "output_type": "stream",
     "text": [
      "Too high!\n",
      "You have 6 attempts remaining.\n"
     ]
    },
    {
     "name": "stdin",
     "output_type": "stream",
     "text": [
      "Make a guess:  22\n"
     ]
    },
    {
     "name": "stdout",
     "output_type": "stream",
     "text": [
      "Too high!\n",
      "You have 5 attempts remaining.\n"
     ]
    },
    {
     "name": "stdin",
     "output_type": "stream",
     "text": [
      "Make a guess:  23\n"
     ]
    },
    {
     "name": "stdout",
     "output_type": "stream",
     "text": [
      "Too high!\n",
      "You have 4 attempts remaining.\n"
     ]
    }
   ],
   "source": [
    "from random import randint\n",
    "\n",
    "# Constants for the number of turns\n",
    "EASY_LEVEL_TURNS = 10\n",
    "HARD_LEVEL_TURNS = 5\n",
    "\n",
    "def check_answer(user_guess, actual_answer):\n",
    "    \"\"\"Checks the user's guess against the actual answer and provides feedback.\"\"\"\n",
    "    if actual_answer < user_guess:\n",
    "        print(\"Too high!\")\n",
    "        return False\n",
    "    elif actual_answer > user_guess:\n",
    "        print(\"Too low!\")\n",
    "        return False\n",
    "    else:\n",
    "        print(f\"You got it! The answer was {actual_answer}.\")\n",
    "        return True\n",
    "\n",
    "def difficulty():\n",
    "    \"\"\"Sets the difficulty level and returns the number of turns.\"\"\"\n",
    "    level = input(\"Choose a difficulty. Type 'easy' or 'hard': \").lower()\n",
    "    if level == \"easy\":\n",
    "        return EASY_LEVEL_TURNS\n",
    "    else:\n",
    "        return HARD_LEVEL_TURNS\n",
    "\n",
    "def game():\n",
    "    \"\"\"Main game function.\"\"\"\n",
    "    print(\"Welcome to the Number Guessing Game!\")\n",
    "    print(\"I'm thinking of a number between 1 and 100.\")\n",
    "    answer = randint(1, 100)\n",
    "    print(f\"The correct answer is {answer} (for debugging purposes).\")  # Remove this in the final version\n",
    "\n",
    "    # Set the difficulty level\n",
    "    turns = difficulty()\n",
    "    print(f\"You have {turns} attempts to guess the number.\")\n",
    "\n",
    "    # Start guessing loop\n",
    "    while turns > 0:\n",
    "        user_guess = int(input(\"Make a guess: \"))\n",
    "        is_correct = check_answer(user_guess, answer)\n",
    "        \n",
    "        if is_correct:\n",
    "            return  # End the game if the user guesses correctly\n",
    "        \n",
    "        # Decrease the number of turns\n",
    "        turns -= 1\n",
    "        if turns > 0:\n",
    "            print(f\"You have {turns} attempts remaining.\")\n",
    "        else:\n",
    "            print(\"You've run out of guesses. You lose!\")\n",
    "            print(f\"The correct answer was {answer}.\")\n",
    "\n",
    "# Start the game\n",
    "game()"
   ]
  },
  {
   "cell_type": "code",
   "execution_count": null,
   "id": "071db6d2-c3b4-4e8b-a776-98bc9f5f23f8",
   "metadata": {},
   "outputs": [],
   "source": []
  },
  {
   "cell_type": "code",
   "execution_count": null,
   "id": "4891fc51-5bdb-46d0-bd0f-06793a87ade7",
   "metadata": {},
   "outputs": [],
   "source": []
  }
 ],
 "metadata": {
  "kernelspec": {
   "display_name": "tf-metal",
   "language": "python",
   "name": "tf-metal"
  },
  "language_info": {
   "codemirror_mode": {
    "name": "ipython",
    "version": 3
   },
   "file_extension": ".py",
   "mimetype": "text/x-python",
   "name": "python",
   "nbconvert_exporter": "python",
   "pygments_lexer": "ipython3",
   "version": "3.10.13"
  }
 },
 "nbformat": 4,
 "nbformat_minor": 5
}
