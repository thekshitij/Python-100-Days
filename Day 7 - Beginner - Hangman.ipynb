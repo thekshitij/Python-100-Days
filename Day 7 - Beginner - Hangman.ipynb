{
 "cells": [
  {
   "cell_type": "code",
   "execution_count": 10,
   "id": "2d6c8870-42a3-4c41-96be-9a550629d27b",
   "metadata": {},
   "outputs": [
    {
     "name": "stdout",
     "output_type": "stream",
     "text": [
      "Choosen word is :- grapes\n"
     ]
    }
   ],
   "source": [
    "import random\n",
    "lives=6\n",
    "\n",
    "word_list=[\"apple\",\"grapes\",\"mango\",\"gova\",\"papaya\"]\n",
    "\n",
    "chosen_word=random.choice(word_list)\n",
    "print(f\"Choosen word is :- {chosen_word}\")\n",
    "length=len(chosen_word)\n"
   ]
  },
  {
   "cell_type": "code",
   "execution_count": 11,
   "id": "573ff6ff-e17f-4420-a5d2-3d6b8755b691",
   "metadata": {},
   "outputs": [
    {
     "name": "stdout",
     "output_type": "stream",
     "text": [
      " ------\n"
     ]
    }
   ],
   "source": [
    "placehold=\" \"\n",
    "for space in range(length):\n",
    "    placehold+=\"-\"\n",
    "print(placehold)    "
   ]
  },
  {
   "cell_type": "code",
   "execution_count": 12,
   "id": "63d0d34b-12a0-4c48-9692-830851c2ebc9",
   "metadata": {},
   "outputs": [
    {
     "name": "stdin",
     "output_type": "stream",
     "text": [
      "Guess a letter :- g\n"
     ]
    },
    {
     "name": "stdout",
     "output_type": "stream",
     "text": [
      "g\n",
      " g_____\n"
     ]
    },
    {
     "name": "stdin",
     "output_type": "stream",
     "text": [
      "Guess a letter :- r\n"
     ]
    },
    {
     "name": "stdout",
     "output_type": "stream",
     "text": [
      "r\n",
      " gr____\n"
     ]
    },
    {
     "name": "stdin",
     "output_type": "stream",
     "text": [
      "Guess a letter :- p\n"
     ]
    },
    {
     "name": "stdout",
     "output_type": "stream",
     "text": [
      "p\n",
      " gr_p__\n"
     ]
    },
    {
     "name": "stdin",
     "output_type": "stream",
     "text": [
      "Guess a letter :- e\n"
     ]
    },
    {
     "name": "stdout",
     "output_type": "stream",
     "text": [
      "e\n",
      " gr_pe_\n"
     ]
    },
    {
     "name": "stdin",
     "output_type": "stream",
     "text": [
      "Guess a letter :- s\n"
     ]
    },
    {
     "name": "stdout",
     "output_type": "stream",
     "text": [
      "s\n",
      " gr_pes\n"
     ]
    },
    {
     "name": "stdin",
     "output_type": "stream",
     "text": [
      "Guess a letter :- a\n"
     ]
    },
    {
     "name": "stdout",
     "output_type": "stream",
     "text": [
      "a\n",
      " grapes\n",
      "You win!\n"
     ]
    }
   ],
   "source": [
    "game_over=False\n",
    "correct_letters= [ ]\n",
    "while not game_over:\n",
    "\n",
    "    guess_letter=input(\"Guess a letter :-\").lower()\n",
    "    print(guess_letter)\n",
    "\n",
    "    display =\" \"\n",
    "\n",
    "    for letter in chosen_word:\n",
    "        if letter == guess_letter:\n",
    "            display+=letter\n",
    "            correct_letters.append(guess_letter)\n",
    "\n",
    "        elif letter in correct_letters:\n",
    "            display+=letter\n",
    "        else:\n",
    "            display+=\"_\"\n",
    "    print(display) \n",
    "\n",
    "    if guess_letter not in chosen_word:\n",
    "        lives-=1\n",
    "        if lives==0:\n",
    "            game_over= True\n",
    "            print(\"You Loss!\")\n",
    "\n",
    "    \n",
    "    if \"_\" not in display:\n",
    "        game_over=True\n",
    "        print(\"You win!\")\n"
   ]
  },
  {
   "cell_type": "code",
   "execution_count": null,
   "id": "80faadf3-87d6-43d9-bda0-83569d48469e",
   "metadata": {},
   "outputs": [],
   "source": []
  },
  {
   "cell_type": "code",
   "execution_count": null,
   "id": "a0da1fcd-1306-4ee7-bf26-3d650beda418",
   "metadata": {},
   "outputs": [],
   "source": []
  }
 ],
 "metadata": {
  "kernelspec": {
   "display_name": "tf-metal",
   "language": "python",
   "name": "tf-metal"
  },
  "language_info": {
   "codemirror_mode": {
    "name": "ipython",
    "version": 3
   },
   "file_extension": ".py",
   "mimetype": "text/x-python",
   "name": "python",
   "nbconvert_exporter": "python",
   "pygments_lexer": "ipython3",
   "version": "3.10.13"
  }
 },
 "nbformat": 4,
 "nbformat_minor": 5
}
