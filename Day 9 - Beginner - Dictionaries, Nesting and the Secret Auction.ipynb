{
 "cells": [
  {
   "cell_type": "markdown",
   "id": "cefe5110-865e-4010-8b99-c24924549fb0",
   "metadata": {},
   "source": [
    "The Python Dictionary: Deep Dive"
   ]
  },
  {
   "cell_type": "code",
   "execution_count": 51,
   "id": "7860afb5-cf03-40ee-87dd-140a5e25026a",
   "metadata": {},
   "outputs": [],
   "source": [
    "Dictionary={\"key1\":\"value1\",\"key2\":\"value2\",\"key\":\"value3\"}"
   ]
  },
  {
   "cell_type": "code",
   "execution_count": 52,
   "id": "86fb0711-952f-45be-b30d-f20e391214be",
   "metadata": {},
   "outputs": [
    {
     "name": "stdout",
     "output_type": "stream",
     "text": [
      "A piece of code that you can call to perform a specific task.\n"
     ]
    }
   ],
   "source": [
    "programming_dictionary = {\n",
    "    \"bug\": \"An error in a program that prevents it from running as expected.\",\n",
    "    \"function\": \"A piece of code that you can call to perform a specific task.\"\n",
    "}\n",
    "\n",
    "print(programming_dictionary[\"function\"])"
   ]
  },
  {
   "cell_type": "code",
   "execution_count": 53,
   "id": "7ccb7fb4-7b3e-4d74-bae9-614253960ba8",
   "metadata": {},
   "outputs": [
    {
     "name": "stdout",
     "output_type": "stream",
     "text": [
      "{'bug': 'An error in a program that prevents it from running as expected.', 'function': 'A piece of code that you can call to perform a specific task.', 'Loop': 'A loop is a programming construct used to repeat a block of code multiple times until a condition is met.'}\n"
     ]
    }
   ],
   "source": [
    "programming_dictionary[\"Loop\"]=\"A loop is a programming construct used to repeat a block of code multiple times until a condition is met.\"\n",
    "print(programming_dictionary)"
   ]
  },
  {
   "cell_type": "code",
   "execution_count": 54,
   "id": "6e786877-aad8-40d7-914c-a6d407ac762d",
   "metadata": {},
   "outputs": [
    {
     "name": "stdout",
     "output_type": "stream",
     "text": [
      "{}\n"
     ]
    }
   ],
   "source": [
    "#emtyp_dictionary={}\n",
    "#Wipe an existing dictionary\n",
    "programming_dictionary={}\n",
    "print(programming_dictionary)"
   ]
  },
  {
   "cell_type": "code",
   "execution_count": 31,
   "id": "2868d100-2564-4b8d-b20f-8f54e70e4e44",
   "metadata": {},
   "outputs": [
    {
     "name": "stdout",
     "output_type": "stream",
     "text": [
      "{'key1': 'updated_value', 'key2': 'value2'}\n"
     ]
    }
   ],
   "source": [
    "#Edit item in Dictionary\n",
    "my_dict = {'key1': 'value1', 'key2': 'value2'}\n",
    "my_dict['key1'] = 'updated_value'\n",
    "print(my_dict)"
   ]
  },
  {
   "cell_type": "code",
   "execution_count": 32,
   "id": "38b94f2c-f4d4-476f-b8eb-949a47dd56a0",
   "metadata": {},
   "outputs": [
    {
     "name": "stdout",
     "output_type": "stream",
     "text": [
      "bug\n",
      "function\n",
      "Loop\n"
     ]
    }
   ],
   "source": [
    "#Loop through the dictionary\n",
    "for thing in programming_dictionary :\n",
    "    print(thing)"
   ]
  },
  {
   "cell_type": "code",
   "execution_count": 33,
   "id": "b13884ad-d8dc-4f0b-bc93-f53a1d547f50",
   "metadata": {},
   "outputs": [
    {
     "name": "stdout",
     "output_type": "stream",
     "text": [
      "bug\n",
      "An error in a program that prevents it from running as expected.\n",
      "function\n",
      "A piece of code that you can call to perform a specific task.\n",
      "Loop\n",
      "A loop is a programming construct used to repeat a block of code multiple times until a condition is met.\n"
     ]
    }
   ],
   "source": [
    "for key in programming_dictionary :\n",
    "    print(key)\n",
    "    print(programming_dictionary[key])"
   ]
  },
  {
   "cell_type": "markdown",
   "id": "81aaf66e-61d7-4265-aefa-86318a2f9d8c",
   "metadata": {},
   "source": [
    "Nesting Lists and Dictionaries"
   ]
  },
  {
   "cell_type": "code",
   "execution_count": 42,
   "id": "4c148661-6833-48b7-a45f-2a7842ca7fa2",
   "metadata": {},
   "outputs": [
    {
     "name": "stdout",
     "output_type": "stream",
     "text": [
      "NO\n",
      "Lyon\n",
      "NO\n",
      "NO\n",
      "NO\n",
      "NO\n",
      "NO\n",
      "NO\n",
      "NO\n",
      "NO\n"
     ]
    }
   ],
   "source": [
    "countries = {\n",
    "    \"France\": [\"Paris\", \"Lyon\", \"Nice\", \"Marseille\", \"Bordeaux\"],\n",
    "    \"Germany\": [\"Berlin\", \"Munich\", \"Hamburg\", \"Frankfurt\", \"Cologne\"]\n",
    "}\n",
    "\n",
    "for country, cities in countries.items():  # Use .items() to get both key and value\n",
    "    for city in cities:  # Loop through the list of cities\n",
    "        if city == \"Lyon\":\n",
    "            print(\"Lyon\")\n",
    "        else:\n",
    "            print(\"NO\")\n",
    "            "
   ]
  },
  {
   "cell_type": "code",
   "execution_count": 44,
   "id": "502c98f1-251d-4dc8-ad56-80b330ba7fd0",
   "metadata": {},
   "outputs": [
    {
     "name": "stdout",
     "output_type": "stream",
     "text": [
      "Lyon\n"
     ]
    }
   ],
   "source": [
    "print(countries[\"France\"][1])"
   ]
  },
  {
   "cell_type": "code",
   "execution_count": 46,
   "id": "f9993bc5-1fd6-4295-80b5-d11ebc67a186",
   "metadata": {},
   "outputs": [
    {
     "name": "stdout",
     "output_type": "stream",
     "text": [
      "d\n"
     ]
    }
   ],
   "source": [
    "#Nest list\n",
    "letter=[\"A\",\"B\",[\"C\",\"d\"]]\n",
    "print(letter[2][1])"
   ]
  },
  {
   "cell_type": "code",
   "execution_count": 50,
   "id": "48d959f7-75ae-496b-a860-283bd0c5391e",
   "metadata": {},
   "outputs": [
    {
     "name": "stdout",
     "output_type": "stream",
     "text": [
      "Marseille\n"
     ]
    }
   ],
   "source": [
    "travel_log = {\n",
    "    \"France\": {\n",
    "        \"city_visited\": [\"Paris\", \"Lyon\", \"Nice\", \"Marseille\", \"Bordeaux\"],\n",
    "        \"total_visit\": 5\n",
    "    },\n",
    "    \"Germany\": {\n",
    "        \"city_visited\": [\"Berlin\", \"Munich\", \"Hamburg\", \"Frankfurt\", \"Cologne\"],\n",
    "        \"total_visit\": 5\n",
    "    }\n",
    "}\n",
    "\n",
    "# Accessing \"Marseille\" (index 3 of cities visited in France)\n",
    "print(travel_log[\"France\"][\"city_visited\"][3])"
   ]
  },
  {
   "cell_type": "code",
   "execution_count": 72,
   "id": "c239fafe-4968-4131-a648-2c1a4ddb130b",
   "metadata": {},
   "outputs": [
    {
     "name": "stdin",
     "output_type": "stream",
     "text": [
      "Are there any other bidders? Type 'yes' or 'no' :- yes\n",
      "What is your name? ksh\n",
      "What is your bid? 34\n",
      "Are there any other bidders? Type 'yes' or 'no' :- no\n"
     ]
    },
    {
     "ename": "TypeError",
     "evalue": "'>' not supported between instances of 'list' and 'int'",
     "output_type": "error",
     "traceback": [
      "\u001b[0;31m---------------------------------------------------------------------------\u001b[0m",
      "\u001b[0;31mTypeError\u001b[0m                                 Traceback (most recent call last)",
      "Cell \u001b[0;32mIn[72], line 31\u001b[0m\n\u001b[1;32m     29\u001b[0m \u001b[38;5;28;01mif\u001b[39;00m should_countinue \u001b[38;5;241m==\u001b[39m\u001b[38;5;124m\"\u001b[39m\u001b[38;5;124mno\u001b[39m\u001b[38;5;124m\"\u001b[39m:\n\u001b[1;32m     30\u001b[0m     countinue_bidding\u001b[38;5;241m=\u001b[39m\u001b[38;5;28;01mFalse\u001b[39;00m\n\u001b[0;32m---> 31\u001b[0m     \u001b[43mfind_higest_bid\u001b[49m\u001b[43m(\u001b[49m\u001b[43mbids\u001b[49m\u001b[43m)\u001b[49m\n\u001b[1;32m     32\u001b[0m \u001b[38;5;28;01melif\u001b[39;00m should_countinue \u001b[38;5;241m==\u001b[39m\u001b[38;5;124m\"\u001b[39m\u001b[38;5;124myes\u001b[39m\u001b[38;5;124m\"\u001b[39m:\n\u001b[1;32m     33\u001b[0m     \u001b[38;5;28mprint\u001b[39m(\u001b[38;5;124m\"\u001b[39m\u001b[38;5;124m/n\u001b[39m\u001b[38;5;124m\"\u001b[39m\u001b[38;5;241m*\u001b[39m\u001b[38;5;241m20\u001b[39m)\n",
      "Cell \u001b[0;32mIn[72], line 11\u001b[0m, in \u001b[0;36mfind_higest_bid\u001b[0;34m(bidding_dictionary)\u001b[0m\n\u001b[1;32m      8\u001b[0m \u001b[38;5;28;01mfor\u001b[39;00m bidder \u001b[38;5;129;01min\u001b[39;00m bidding_dictionary:\n\u001b[1;32m     10\u001b[0m     bid_amount\u001b[38;5;241m=\u001b[39mbidding_dictionary[bidder]\n\u001b[0;32m---> 11\u001b[0m     \u001b[38;5;28;01mif\u001b[39;00m \u001b[43mbid_amount\u001b[49m\u001b[38;5;241;43m>\u001b[39;49m\u001b[43mhigest_bid\u001b[49m:\n\u001b[1;32m     12\u001b[0m         higest_bid\u001b[38;5;241m=\u001b[39mbid_amount\n\u001b[1;32m     13\u001b[0m         winner\u001b[38;5;241m=\u001b[39mbidder\n",
      "\u001b[0;31mTypeError\u001b[0m: '>' not supported between instances of 'list' and 'int'"
     ]
    }
   ],
   "source": [
    "#The Secret Auction Program Instructions and Flow Chart\n",
    "\n",
    "\n",
    "\n",
    "def find_higest_bid(bidding_dictionary):\n",
    "    winner=\"\"\n",
    "    higest_bid=0\n",
    "    for bidder in bidding_dictionary:\n",
    "\n",
    "        bid_amount=bidding_dictionary[bidder]\n",
    "        if bid_amount>higest_bid:\n",
    "            higest_bid=bid_amount\n",
    "            winner=bidder\n",
    "\n",
    "        print(f\"The winner is {winner} higest bid is {higest_bid}\")\n",
    "    \n",
    "\n",
    "bids={}\n",
    "should_countinue=input(\"Are there any other bidders? Type 'yes' or 'no' :-\")\n",
    "\n",
    "countinue_bidding=True\n",
    "\n",
    "while countinue_bidding:\n",
    "    name=input(\"What is your name?\")\n",
    "    price=int(input(\"What is your bid?\"))\n",
    "    \n",
    "    bids[name]=[price]\n",
    "    should_countinue=input(\"Are there any other bidders? Type 'yes' or 'no' :-\").lower()\n",
    "    if should_countinue ==\"no\":\n",
    "        countinue_bidding=False\n",
    "        find_higest_bid(bids)\n",
    "    elif should_countinue ==\"yes\":\n",
    "        print(\"/n\"*20)\n",
    "\n",
    "\n",
    "\n",
    "        \n"
   ]
  },
  {
   "cell_type": "code",
   "execution_count": null,
   "id": "b212ffed-7610-47f6-83fe-152059b8091a",
   "metadata": {},
   "outputs": [
    {
     "name": "stdin",
     "output_type": "stream",
     "text": [
      "Are there any other bidders? Type 'yes' or 'no':  yes\n",
      "What is your name?  kshi\n",
      "What is your bid?  34\n",
      "Are there any other bidders? Type 'yes' or 'no':  yes\n"
     ]
    },
    {
     "name": "stdout",
     "output_type": "stream",
     "text": [
      "\n",
      "\n",
      "\n",
      "\n",
      "\n",
      "\n",
      "\n",
      "\n",
      "\n",
      "\n",
      "\n",
      "\n",
      "\n",
      "\n",
      "\n",
      "\n",
      "\n",
      "\n",
      "\n",
      "\n",
      "\n"
     ]
    },
    {
     "name": "stdin",
     "output_type": "stream",
     "text": [
      "What is your name?  sam\n",
      "What is your bid?  56\n"
     ]
    }
   ],
   "source": [
    "def find_highest_bid(bidding_dictionary):\n",
    "    winner = \"\"\n",
    "    highest_bid = 0\n",
    "    for bidder in bidding_dictionary:\n",
    "        bid_amount = bidding_dictionary[bidder]\n",
    "        if bid_amount > highest_bid:\n",
    "            highest_bid = bid_amount\n",
    "            winner = bidder\n",
    "\n",
    "    print(f\"The winner is {winner} with the highest bid of {highest_bid}\")\n",
    "\n",
    "bids = {}\n",
    "should_continue = input(\"Are there any other bidders? Type 'yes' or 'no': \")\n",
    "\n",
    "continue_bidding = True\n",
    "\n",
    "while continue_bidding:\n",
    "    name = input(\"What is your name? \")\n",
    "    price = int(input(\"What is your bid? \"))\n",
    "    \n",
    "    bids[name] = price\n",
    "    should_continue = input(\"Are there any other bidders? Type 'yes' or 'no': \").lower()\n",
    "    \n",
    "    if should_continue == \"no\":\n",
    "        continue_bidding = False\n",
    "        find_highest_bid(bids)\n",
    "    elif should_continue == \"yes\":\n",
    "        print(\"\\n\" * 20)\n"
   ]
  },
  {
   "cell_type": "code",
   "execution_count": null,
   "id": "2ae0b9a2-4885-46eb-8af6-8916cf2b3fa7",
   "metadata": {},
   "outputs": [],
   "source": []
  }
 ],
 "metadata": {
  "kernelspec": {
   "display_name": "tf-metal",
   "language": "python",
   "name": "tf-metal"
  },
  "language_info": {
   "codemirror_mode": {
    "name": "ipython",
    "version": 3
   },
   "file_extension": ".py",
   "mimetype": "text/x-python",
   "name": "python",
   "nbconvert_exporter": "python",
   "pygments_lexer": "ipython3",
   "version": "3.10.13"
  }
 },
 "nbformat": 4,
 "nbformat_minor": 5
}
