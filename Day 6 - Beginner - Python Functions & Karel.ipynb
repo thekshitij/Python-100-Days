{
 "cells": [
  {
   "cell_type": "markdown",
   "id": "30fd7d0b-af7c-4547-a590-8adc4f567d86",
   "metadata": {},
   "source": [
    "Defining and Calling Python Functions"
   ]
  },
  {
   "cell_type": "code",
   "execution_count": 1,
   "id": "24ac3633-98f9-424e-9b96-525fdd62f60b",
   "metadata": {},
   "outputs": [
    {
     "ename": "SyntaxError",
     "evalue": "incomplete input (1244064494.py, line 7)",
     "output_type": "error",
     "traceback": [
      "\u001b[0;36m  Cell \u001b[0;32mIn[1], line 7\u001b[0;36m\u001b[0m\n\u001b[0;31m    \u001b[0m\n\u001b[0m    ^\u001b[0m\n\u001b[0;31mSyntaxError\u001b[0m\u001b[0;31m:\u001b[0m incomplete input\n"
     ]
    }
   ],
   "source": [
    "#Function start with ---->def\n",
    "def my_function():\n",
    "    #Do this\n",
    "    #Then do this \n",
    "    #Finally do this\n",
    "\n",
    "#Calling Functions\n",
    "\n",
    "my_function()\n"
   ]
  },
  {
   "cell_type": "code",
   "execution_count": 2,
   "id": "dfe7a12e-acec-4b56-99ff-0c97933d3905",
   "metadata": {},
   "outputs": [
    {
     "name": "stdout",
     "output_type": "stream",
     "text": [
      "Hi\n",
      "Kshitij\n"
     ]
    }
   ],
   "source": [
    "#Examplt\n",
    "\n",
    "def my_function():\n",
    "    print(\"Hi\")\n",
    "    print(\"Kshitij\")\n",
    "\n",
    "\n",
    "my_function()"
   ]
  },
  {
   "cell_type": "markdown",
   "id": "58ea6218-0aae-44c6-9197-e2ef9c47416f",
   "metadata": {},
   "source": [
    "While Loops"
   ]
  },
  {
   "cell_type": "code",
   "execution_count": 3,
   "id": "6056b904-2b63-414d-bf9d-80bfcc4ac9af",
   "metadata": {},
   "outputs": [
    {
     "ename": "SyntaxError",
     "evalue": "incomplete input (1982652057.py, line 2)",
     "output_type": "error",
     "traceback": [
      "\u001b[0;36m  Cell \u001b[0;32mIn[3], line 2\u001b[0;36m\u001b[0m\n\u001b[0;31m    #Do something repeatdly.\u001b[0m\n\u001b[0m                            ^\u001b[0m\n\u001b[0;31mSyntaxError\u001b[0m\u001b[0;31m:\u001b[0m incomplete input\n"
     ]
    }
   ],
   "source": [
    "while something_is_true():\n",
    "    #Do something repeatdly."
   ]
  },
  {
   "cell_type": "code",
   "execution_count": null,
   "id": "efe4db44-5c17-459b-aa1f-4bde141c2f74",
   "metadata": {},
   "outputs": [],
   "source": [
    "number=5\n",
    "while number>0:\n",
    "    print"
   ]
  }
 ],
 "metadata": {
  "kernelspec": {
   "display_name": "tf-metal",
   "language": "python",
   "name": "tf-metal"
  },
  "language_info": {
   "codemirror_mode": {
    "name": "ipython",
    "version": 3
   },
   "file_extension": ".py",
   "mimetype": "text/x-python",
   "name": "python",
   "nbconvert_exporter": "python",
   "pygments_lexer": "ipython3",
   "version": "3.10.13"
  }
 },
 "nbformat": 4,
 "nbformat_minor": 5
}
