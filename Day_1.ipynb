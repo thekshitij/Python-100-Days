{
 "cells": [
  {
   "cell_type": "markdown",
   "id": "755c9b39-3de5-4360-b87d-a079915a32f5",
   "metadata": {},
   "source": [
    "Print"
   ]
  },
  {
   "cell_type": "code",
   "execution_count": 5,
   "id": "dbb00ba7-bbcc-4500-9a59-852f74a941c5",
   "metadata": {},
   "outputs": [
    {
     "name": "stdout",
     "output_type": "stream",
     "text": [
      "Hello world!\n"
     ]
    }
   ],
   "source": [
    "print(\"Hello world!\")"
   ]
  },
  {
   "cell_type": "code",
   "execution_count": 6,
   "id": "a7962611-b149-49c3-a770-c9810d419272",
   "metadata": {},
   "outputs": [
    {
     "name": "stdout",
     "output_type": "stream",
     "text": [
      "Hello world!\n"
     ]
    }
   ],
   "source": [
    "print(\"Hello\"+\" \"+\"world!\")"
   ]
  },
  {
   "cell_type": "code",
   "execution_count": 7,
   "id": "c9a15af3-cd3a-4727-9ded-a3239135f9c2",
   "metadata": {},
   "outputs": [
    {
     "name": "stdout",
     "output_type": "stream",
     "text": [
      "Hello world!\n"
     ]
    }
   ],
   "source": [
    "print(\"Hello \"+\"world!\")"
   ]
  },
  {
   "cell_type": "code",
   "execution_count": 8,
   "id": "0e32ca8f-1c6d-4386-ad0e-61e412951eac",
   "metadata": {},
   "outputs": [
    {
     "name": "stdout",
     "output_type": "stream",
     "text": [
      "Hello world!\n"
     ]
    }
   ],
   "source": [
    "print(\"Hello\"+\" world!\")"
   ]
  },
  {
   "cell_type": "markdown",
   "id": "6de132dd-b9cc-4d8f-b0b1-292fb01721b3",
   "metadata": {},
   "source": [
    "Input function"
   ]
  },
  {
   "cell_type": "code",
   "execution_count": 9,
   "id": "09ab436d-2880-4ff5-8497-d63aa0966df2",
   "metadata": {},
   "outputs": [
    {
     "name": "stdin",
     "output_type": "stream",
     "text": [
      "What is your name? Kshitij\n"
     ]
    },
    {
     "data": {
      "text/plain": [
       "'Kshitij'"
      ]
     },
     "execution_count": 9,
     "metadata": {},
     "output_type": "execute_result"
    }
   ],
   "source": [
    "input(\"What is your name?\")"
   ]
  },
  {
   "cell_type": "code",
   "execution_count": 14,
   "id": "f5919232-43a0-4854-9933-9cec186bc90a",
   "metadata": {},
   "outputs": [
    {
     "name": "stdin",
     "output_type": "stream",
     "text": [
      "What is your name? kshitij\n"
     ]
    },
    {
     "name": "stdout",
     "output_type": "stream",
     "text": [
      "Hello kshitij\n"
     ]
    }
   ],
   "source": [
    "print(\"Hello \"+input(\"What is your name?\"))"
   ]
  },
  {
   "cell_type": "code",
   "execution_count": 15,
   "id": "71d15e17-1cba-4095-8cb4-913820bd089c",
   "metadata": {},
   "outputs": [
    {
     "name": "stdin",
     "output_type": "stream",
     "text": [
      "What is your name? Kshitij\n"
     ]
    },
    {
     "name": "stdout",
     "output_type": "stream",
     "text": [
      "Hello Kshitij!\n"
     ]
    }
   ],
   "source": [
    "print(\"Hello \"+input(\"What is your name?\")+\"!\")"
   ]
  },
  {
   "cell_type": "markdown",
   "id": "688fae44-c71b-466b-807e-55672d208b16",
   "metadata": {},
   "source": [
    "Variable"
   ]
  },
  {
   "cell_type": "code",
   "execution_count": 16,
   "id": "d5813c3e-7e8e-4ea0-8b41-fb85405ccb2f",
   "metadata": {},
   "outputs": [
    {
     "name": "stdin",
     "output_type": "stream",
     "text": [
      "What is your name? Kshitij\n"
     ]
    }
   ],
   "source": [
    "name=input(\"What is your name?\")"
   ]
  },
  {
   "cell_type": "code",
   "execution_count": 17,
   "id": "a02e039a-17f6-4f11-b97b-b1e103f4e35e",
   "metadata": {},
   "outputs": [
    {
     "name": "stdout",
     "output_type": "stream",
     "text": [
      "Kshitij\n"
     ]
    }
   ],
   "source": [
    "print(name)"
   ]
  },
  {
   "cell_type": "markdown",
   "id": "65dac6b7-edf5-44cc-9841-7d0af93e491f",
   "metadata": {},
   "source": [
    "Band name generator"
   ]
  },
  {
   "cell_type": "code",
   "execution_count": 20,
   "id": "7739d8ab-9419-4ad9-b3c1-276526e5e15e",
   "metadata": {},
   "outputs": [
    {
     "name": "stdout",
     "output_type": "stream",
     "text": [
      "Welcome to the Band name gererator!\n"
     ]
    },
    {
     "name": "stdin",
     "output_type": "stream",
     "text": [
      "What's name of the city you grew up in? varansi\n",
      "What's your pet's name? pradhan\n"
     ]
    },
    {
     "name": "stdout",
     "output_type": "stream",
     "text": [
      "Your band name could be varansi pradhan!\n"
     ]
    }
   ],
   "source": [
    "print(\"Welcome to the Band name gererator!\")\n",
    "city_name=input(\"What's name of the city you grew up in?\")\n",
    "pet_name=input(\"What's your pet's name?\")\n",
    "\n",
    "print(\"Your band name could be \"+city_name+\" \"+pet_name+\"!\" )\n"
   ]
  },
  {
   "cell_type": "code",
   "execution_count": null,
   "id": "096393a2-36a9-4f60-b45f-dade5ba9399c",
   "metadata": {},
   "outputs": [],
   "source": []
  }
 ],
 "metadata": {
  "kernelspec": {
   "display_name": "Python 3 (ipykernel)",
   "language": "python",
   "name": "python3"
  },
  "language_info": {
   "codemirror_mode": {
    "name": "ipython",
    "version": 3
   },
   "file_extension": ".py",
   "mimetype": "text/x-python",
   "name": "python",
   "nbconvert_exporter": "python",
   "pygments_lexer": "ipython3",
   "version": "3.10.15"
  }
 },
 "nbformat": 4,
 "nbformat_minor": 5
}
