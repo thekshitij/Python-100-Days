{
 "cells": [
  {
   "cell_type": "markdown",
   "id": "4e00ee23-a8ea-4f7e-a4ac-70869bba758a",
   "metadata": {},
   "source": [
    "if/else-Condition "
   ]
  },
  {
   "cell_type": "code",
   "execution_count": 1,
   "id": "f2ee29e9-aab6-4461-bb63-2d12a3478ae2",
   "metadata": {},
   "outputs": [
    {
     "ename": "SyntaxError",
     "evalue": "invalid syntax (1539749521.py, line 2)",
     "output_type": "error",
     "traceback": [
      "\u001b[0;36m  Cell \u001b[0;32mIn[1], line 2\u001b[0;36m\u001b[0m\n\u001b[0;31m    do this\u001b[0m\n\u001b[0m       ^\u001b[0m\n\u001b[0;31mSyntaxError\u001b[0m\u001b[0;31m:\u001b[0m invalid syntax\n"
     ]
    }
   ],
   "source": [
    "if Condition:\n",
    "    do this\n",
    "else:\n",
    "    do this"
   ]
  },
  {
   "cell_type": "code",
   "execution_count": 3,
   "id": "7847ccbc-28bc-42fe-8448-eb7bfd7159b4",
   "metadata": {},
   "outputs": [
    {
     "name": "stdout",
     "output_type": "stream",
     "text": [
      "Continue\n"
     ]
    }
   ],
   "source": [
    "#Ex-\n",
    "water_level =50\n",
    "if water_level>80:\n",
    "    print(\"Drain water\")\n",
    "else:\n",
    "    print(\"Continue\")"
   ]
  },
  {
   "cell_type": "code",
   "execution_count": 5,
   "id": "63ae7fac-d66e-4187-a210-9edf893fdf58",
   "metadata": {},
   "outputs": [
    {
     "name": "stdout",
     "output_type": "stream",
     "text": [
      "Welcome to the rollercoaster!\n"
     ]
    },
    {
     "name": "stdin",
     "output_type": "stream",
     "text": [
      "What is your height(cm):- 110\n"
     ]
    },
    {
     "name": "stdout",
     "output_type": "stream",
     "text": [
      "Sorry you can't able to ride the rollercoaster. \n"
     ]
    }
   ],
   "source": [
    "print(\"Welcome to the rollercoaster!\")\n",
    "height=int(input(\"What is your height(cm):-\"))\n",
    "\n",
    "if height >120:\n",
    "    print(\"You can ride the rollercoaster.\")\n",
    "else:\n",
    "    print(\"Sorry you can't able to ride the rollercoaster. \")\n",
    "    "
   ]
  },
  {
   "cell_type": "markdown",
   "id": "dd3f9054-fb56-4b3d-9499-d5c38f47a8e4",
   "metadata": {},
   "source": [
    "Comparison Operators "
   ]
  },
  {
   "cell_type": "raw",
   "id": "27cfe6cc-10a8-4b6b-8fff-555bbc63cef0",
   "metadata": {},
   "source": [
    "#Operator                    #Meaning\n",
    " >                          Greater than\n",
    " <                          Less than\n",
    " >=                         Greater than or equal to \n",
    " <=                         Less than or equal to\n",
    " ==                         Equal to\n",
    " !=                         Not equal to"
   ]
  },
  {
   "cell_type": "markdown",
   "id": "75c459d2-de69-429d-aa19-b5890faea7b1",
   "metadata": {},
   "source": [
    " Modulo operator"
   ]
  },
  {
   "cell_type": "code",
   "execution_count": 6,
   "id": "5a4dd6e9-5807-40c8-a04e-56a9978aa815",
   "metadata": {},
   "outputs": [
    {
     "ename": "SyntaxError",
     "evalue": "cannot assign to expression here. Maybe you meant '==' instead of '='? (141426472.py, line 1)",
     "output_type": "error",
     "traceback": [
      "\u001b[0;36m  Cell \u001b[0;32mIn[6], line 1\u001b[0;36m\u001b[0m\n\u001b[0;31m    10 % 3 = 3 with 1 remaining\u001b[0m\n\u001b[0m    ^\u001b[0m\n\u001b[0;31mSyntaxError\u001b[0m\u001b[0;31m:\u001b[0m cannot assign to expression here. Maybe you meant '==' instead of '='?\n"
     ]
    }
   ],
   "source": [
    "\n",
    "10 % 3 = 3 with 1 remaining"
   ]
  },
  {
   "cell_type": "code",
   "execution_count": 9,
   "id": "610210f6-d0a0-451a-b0b4-2fed14d7ea76",
   "metadata": {},
   "outputs": [
    {
     "name": "stdin",
     "output_type": "stream",
     "text": [
      "What is the number you want to check :- 4\n"
     ]
    },
    {
     "name": "stdout",
     "output_type": "stream",
     "text": [
      "Even\n"
     ]
    }
   ],
   "source": [
    "#Check odd or even\n",
    "num=int(input(\"What is the number you want to check :-\"))\n",
    "\n",
    "if num%2==0:\n",
    "    print(\"Even\")\n",
    "else:\n",
    "    print(\"Odd\")"
   ]
  },
  {
   "cell_type": "markdown",
   "id": "9940c7a2-c292-452b-8040-c1f6ac14ba62",
   "metadata": {},
   "source": [
    "Nested if statements and elif statements"
   ]
  },
  {
   "cell_type": "code",
   "execution_count": 10,
   "id": "81dabfaf-f67f-413c-aa3c-f8e36bdb22d3",
   "metadata": {},
   "outputs": [
    {
     "ename": "SyntaxError",
     "evalue": "invalid syntax (3979761760.py, line 2)",
     "output_type": "error",
     "traceback": [
      "\u001b[0;36m  Cell \u001b[0;32mIn[10], line 2\u001b[0;36m\u001b[0m\n\u001b[0;31m    if another condition:\u001b[0m\n\u001b[0m               ^\u001b[0m\n\u001b[0;31mSyntaxError\u001b[0m\u001b[0;31m:\u001b[0m invalid syntax\n"
     ]
    }
   ],
   "source": [
    "if Condition:\n",
    "    if another condition:\n",
    "        do this\n",
    "    else:\n",
    "        do this\n",
    "else:\n",
    "    do this"
   ]
  },
  {
   "cell_type": "code",
   "execution_count": 11,
   "id": "78e85533-c9bc-4ca2-9259-a0aee2ea1d30",
   "metadata": {},
   "outputs": [
    {
     "name": "stdout",
     "output_type": "stream",
     "text": [
      "Welcome to the rollercoaster!\n"
     ]
    },
    {
     "name": "stdin",
     "output_type": "stream",
     "text": [
      "What is your height(cm):- 130\n"
     ]
    },
    {
     "name": "stdout",
     "output_type": "stream",
     "text": [
      "You can ride the rollercoaster.\n"
     ]
    },
    {
     "name": "stdin",
     "output_type": "stream",
     "text": [
      "What is your age? 18\n"
     ]
    },
    {
     "name": "stdout",
     "output_type": "stream",
     "text": [
      "Please pay $7\n"
     ]
    }
   ],
   "source": [
    "print(\"Welcome to the rollercoaster!\")\n",
    "height=int(input(\"What is your height(cm):-\"))\n",
    "\n",
    "if height >120:\n",
    "    print(\"You can ride the rollercoaster.\")\n",
    "    \n",
    "    age=int(input(\"What is your age?\"))\n",
    "    if age<=18:\n",
    "        print(\"Please pay $7\")\n",
    "    else:\n",
    "        print(\"Please pay $12\")\n",
    "    \n",
    "else:\n",
    "    print(\"Sorry you can't able to ride the rollercoaster. \")\n",
    "    "
   ]
  },
  {
   "cell_type": "markdown",
   "id": "79116ff3-0dac-4106-8d56-5e560fc544ca",
   "metadata": {},
   "source": [
    "if/elif/else-Condition"
   ]
  },
  {
   "cell_type": "code",
   "execution_count": 14,
   "id": "2ba8f48c-9fc6-4240-85c4-7094df9a1ebb",
   "metadata": {},
   "outputs": [
    {
     "ename": "SyntaxError",
     "evalue": "invalid syntax (1301159873.py, line 2)",
     "output_type": "error",
     "traceback": [
      "\u001b[0;36m  Cell \u001b[0;32mIn[14], line 2\u001b[0;36m\u001b[0m\n\u001b[0;31m    do A\u001b[0m\n\u001b[0m       ^\u001b[0m\n\u001b[0;31mSyntaxError\u001b[0m\u001b[0;31m:\u001b[0m invalid syntax\n"
     ]
    }
   ],
   "source": [
    "if Condition1:\n",
    "    do A\n",
    "elif Condition2:\n",
    "    do B\n",
    "else:\n",
    "    do C"
   ]
  },
  {
   "cell_type": "code",
   "execution_count": 16,
   "id": "3ec2ff53-b568-41d2-bb6b-273cafaedaed",
   "metadata": {},
   "outputs": [
    {
     "name": "stdout",
     "output_type": "stream",
     "text": [
      "Welcome to the rollercoaster!\n"
     ]
    },
    {
     "name": "stdin",
     "output_type": "stream",
     "text": [
      "What is your height(cm):- 130\n"
     ]
    },
    {
     "name": "stdout",
     "output_type": "stream",
     "text": [
      "You can ride the rollercoaster.\n"
     ]
    },
    {
     "name": "stdin",
     "output_type": "stream",
     "text": [
      "What is your age? 6\n"
     ]
    },
    {
     "name": "stdout",
     "output_type": "stream",
     "text": [
      "Please pay $5\n"
     ]
    }
   ],
   "source": [
    "print(\"Welcome to the rollercoaster!\")\n",
    "height=int(input(\"What is your height(cm):-\"))\n",
    "\n",
    "if height >120:\n",
    "    print(\"You can ride the rollercoaster.\")\n",
    "    age=int(input(\"What is your age?\"))\n",
    "    if age<12:\n",
    "        print(\"Please pay $5\")\n",
    "    elif age>12 or age<18:\n",
    "        print(\"Please pay $7\") \n",
    "    else:\n",
    "        print(\"Please pay $12\")\n",
    "\n",
    "\n",
    "\n",
    "else:\n",
    "    print(\"Sorry you can't able to ride the rollercoaster. \")\n",
    "    "
   ]
  },
  {
   "cell_type": "markdown",
   "id": "bab0118d-65b9-4397-a593-dc0a12a1fe5a",
   "metadata": {},
   "source": [
    "Multiple If Statements"
   ]
  },
  {
   "cell_type": "code",
   "execution_count": 17,
   "id": "0e3f8b38-949a-44cb-8cd9-974081cc8f21",
   "metadata": {},
   "outputs": [
    {
     "ename": "SyntaxError",
     "evalue": "invalid syntax (3723034004.py, line 2)",
     "output_type": "error",
     "traceback": [
      "\u001b[0;36m  Cell \u001b[0;32mIn[17], line 2\u001b[0;36m\u001b[0m\n\u001b[0;31m    do A\u001b[0m\n\u001b[0m       ^\u001b[0m\n\u001b[0;31mSyntaxError\u001b[0m\u001b[0;31m:\u001b[0m invalid syntax\n"
     ]
    }
   ],
   "source": [
    "if Condition1:\n",
    "    do A\n",
    "if Condition2:\n",
    "    do B\n",
    "if condition3:\n",
    "    do C"
   ]
  },
  {
   "cell_type": "code",
   "execution_count": 18,
   "id": "9665811f-94b9-4da9-930f-544d1821d60b",
   "metadata": {},
   "outputs": [
    {
     "name": "stdout",
     "output_type": "stream",
     "text": [
      "Welcome to the rollercoaster!\n"
     ]
    },
    {
     "name": "stdin",
     "output_type": "stream",
     "text": [
      "What is your height(cm):- 130\n"
     ]
    },
    {
     "name": "stdout",
     "output_type": "stream",
     "text": [
      "You can ride the rollercoaster.\n"
     ]
    },
    {
     "name": "stdin",
     "output_type": "stream",
     "text": [
      "What is your age? 19\n"
     ]
    },
    {
     "name": "stdout",
     "output_type": "stream",
     "text": [
      "Young tickets pay $7\n"
     ]
    },
    {
     "name": "stdin",
     "output_type": "stream",
     "text": [
      "Do you want have a photo take(y/n)? y\n"
     ]
    },
    {
     "name": "stdout",
     "output_type": "stream",
     "text": [
      "Your final bill is10 \n"
     ]
    }
   ],
   "source": [
    "print(\"Welcome to the rollercoaster!\")\n",
    "height=int(input(\"What is your height(cm):-\"))\n",
    "bill=0\n",
    "if height >120:\n",
    "    print(\"You can ride the rollercoaster.\")\n",
    "    age=int(input(\"What is your age?\"))\n",
    "    if age<12:\n",
    "        print(\"Child tickets pay $5\")\n",
    "        bill=5\n",
    "    elif age>12 or age<18:\n",
    "        print(\"Young tickets pay $7\")\n",
    "        bill=7\n",
    "    else:\n",
    "        print(\"Adult tickets $12\")\n",
    "        bill=12      \n",
    "    wants_photo=input(\"Do you want have a photo take(y/n)?\")\n",
    "    if wants_photo==\"y\":\n",
    "        bill+=3\n",
    "    print(f\"Your final bill is{bill} \")    \n",
    "\n",
    "else:\n",
    "    print(\"Sorry you can't able to ride the rollercoaster. \")\n",
    "    "
   ]
  },
  {
   "cell_type": "markdown",
   "id": "80af78cf-c8e0-48ba-8aa4-8b4e19dc9beb",
   "metadata": {},
   "source": [
    "Pizza Order Practice"
   ]
  },
  {
   "cell_type": "code",
   "execution_count": 21,
   "id": "33edc3a5-94a2-498a-a189-3685745c6ce2",
   "metadata": {},
   "outputs": [
    {
     "name": "stdout",
     "output_type": "stream",
     "text": [
      "welcome to python pizza deiveries!\n"
     ]
    },
    {
     "name": "stdin",
     "output_type": "stream",
     "text": [
      "What size of pizza do you want?S,M or L:-  S\n",
      "Do you want pepperoni on your pizza? Y or N Y\n",
      "Do you want extra cheese?Y or N Y\n"
     ]
    },
    {
     "name": "stdout",
     "output_type": "stream",
     "text": [
      "Your final bill is18\n"
     ]
    }
   ],
   "source": [
    "print(\"welcome to python pizza deiveries!\")\n",
    "size=input(\"What size of pizza do you want?S,M or L:- \")\n",
    "pepperoni=input(\"Do you want pepperoni on your pizza? Y or N\")\n",
    "extra_cheese= input(\"Do you want extra cheese?Y or N\")\n",
    "\n",
    "bill=0\n",
    "if size==\"S\":\n",
    "    bill+=15\n",
    "elif size==\"M\":\n",
    "    bill+=20\n",
    "elif size==\"L\":\n",
    "    bill+=25\n",
    "else:\n",
    "    print(\"You type wrong input.\")\n",
    "\n",
    "if pepperoni==\"Y\":\n",
    "    if size==\"S\":\n",
    "        bill+=2\n",
    "    else:\n",
    "        bill+=3\n",
    "        \n",
    "if extra_cheese==\"Y\":\n",
    "    bill+=1\n",
    "\n",
    "print(f\"Your final bill is{bill}\")"
   ]
  },
  {
   "cell_type": "markdown",
   "id": "0b1411bc-f573-4765-8565-43cb4631c41c",
   "metadata": {},
   "source": [
    "Project: Treasure Island"
   ]
  },
  {
   "cell_type": "code",
   "execution_count": null,
   "id": "3d856133-0e69-4473-843e-56dbb2a5d4ac",
   "metadata": {},
   "outputs": [
    {
     "name": "stdout",
     "output_type": "stream",
     "text": [
      "Welcom to the Treasure Island!\n",
      "Your mission is to find Treasure\n"
     ]
    },
    {
     "name": "stdin",
     "output_type": "stream",
     "text": [
      "You are at a crossroad ,where do you want to go? Type left or right  left\n",
      "You are at a lake ,What do you want to do? Type wait or swim  wait\n"
     ]
    }
   ],
   "source": [
    "print(\"Welcom to the Treasure Island!\")\n",
    "print(\"Your mission is to find Treasure\")\n",
    "choice1=input(\"You are at a crossroad ,where do you want to go? Type left or right \").lower()\n",
    "\n",
    "if choice1==\"left\":\n",
    "    choice2=input(\"You are at a lake ,What do you want to do? Type wait or swim \").lower()\n",
    "    if choice2==\"wait\":\n",
    "        choice3=input(\"You will chose which door?Red ,Blue ,Yellow\").lower()\n",
    "        if choice3==\"red\":\n",
    "            print(\"You win!\")\n",
    "        else:\n",
    "            print(\"Game over\")\n",
    "            \n",
    "    else:\n",
    "        print(\"You got attacked by an angry trout.Game over.\")\n",
    "else:\n",
    "    print(\"You fell in the hole.Game over\")\n",
    "    "
   ]
  },
  {
   "cell_type": "code",
   "execution_count": null,
   "id": "6ea99a3b-ff68-473a-ad37-9f34d5389328",
   "metadata": {},
   "outputs": [],
   "source": []
  }
 ],
 "metadata": {
  "kernelspec": {
   "display_name": "tf-metal",
   "language": "python",
   "name": "tf-metal"
  },
  "language_info": {
   "codemirror_mode": {
    "name": "ipython",
    "version": 3
   },
   "file_extension": ".py",
   "mimetype": "text/x-python",
   "name": "python",
   "nbconvert_exporter": "python",
   "pygments_lexer": "ipython3",
   "version": "3.10.13"
  }
 },
 "nbformat": 4,
 "nbformat_minor": 5
}
