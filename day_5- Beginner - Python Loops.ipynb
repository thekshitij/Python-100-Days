{
 "cells": [
  {
   "cell_type": "markdown",
   "id": "3a1f40c4-8b6d-49ea-a7fd-c20042cc7977",
   "metadata": {},
   "source": [
    "Using the for loop with Python Lists"
   ]
  },
  {
   "cell_type": "code",
   "execution_count": 3,
   "id": "470d02d0-504f-4dc1-8eb9-a820cdd90663",
   "metadata": {},
   "outputs": [
    {
     "ename": "SyntaxError",
     "evalue": "incomplete input (3119318095.py, line 3)",
     "output_type": "error",
     "traceback": [
      "\u001b[0;36m  Cell \u001b[0;32mIn[3], line 3\u001b[0;36m\u001b[0m\n\u001b[0;31m    #Do something to each item\u001b[0m\n\u001b[0m                              ^\u001b[0m\n\u001b[0;31mSyntaxError\u001b[0m\u001b[0;31m:\u001b[0m incomplete input\n"
     ]
    }
   ],
   "source": [
    "#For loop\n",
    "for item in list_of_iteams:\n",
    "    #Do something to each item"
   ]
  },
  {
   "cell_type": "code",
   "execution_count": 9,
   "id": "c243f091-a156-443b-9c13-0c86b30dd1fc",
   "metadata": {},
   "outputs": [
    {
     "name": "stdout",
     "output_type": "stream",
     "text": [
      "Apple\n",
      "Banana\n",
      "Orange\n",
      "Mango\n",
      "Grapes\n",
      "Grapes pie\n",
      "['Apple', 'Banana', 'Orange', 'Mango', 'Grapes']\n"
     ]
    }
   ],
   "source": [
    "fruits = [\"Apple\", \"Banana\", \"Orange\", \"Mango\", \"Grapes\"]\n",
    "\n",
    "for fruit in fruits:\n",
    "    print(fruit)\n",
    "print(fruit +\" pie\")\n",
    "print(fruits)"
   ]
  },
  {
   "cell_type": "code",
   "execution_count": 53,
   "id": "851de8cb-91d5-4d44-865c-f313c273bed6",
   "metadata": {},
   "outputs": [
    {
     "ename": "TypeError",
     "evalue": "'int' object is not callable",
     "output_type": "error",
     "traceback": [
      "\u001b[0;31m---------------------------------------------------------------------------\u001b[0m",
      "\u001b[0;31mTypeError\u001b[0m                                 Traceback (most recent call last)",
      "Cell \u001b[0;32mIn[53], line 4\u001b[0m\n\u001b[1;32m      1\u001b[0m \u001b[38;5;66;03m# Sum of scores\u001b[39;00m\n\u001b[1;32m      2\u001b[0m marks \u001b[38;5;241m=\u001b[39m [\u001b[38;5;241m92\u001b[39m, \u001b[38;5;241m55\u001b[39m, \u001b[38;5;241m68\u001b[39m, \u001b[38;5;241m79\u001b[39m, \u001b[38;5;241m81\u001b[39m, \u001b[38;5;241m47\u001b[39m, \u001b[38;5;241m99\u001b[39m, \u001b[38;5;241m64\u001b[39m, \u001b[38;5;241m88\u001b[39m, \u001b[38;5;241m53\u001b[39m]\n\u001b[0;32m----> 4\u001b[0m total_score \u001b[38;5;241m=\u001b[39m\u001b[38;5;28;43msum\u001b[39;49m\u001b[43m(\u001b[49m\u001b[43mmarks\u001b[49m\u001b[43m)\u001b[49m  \n\u001b[1;32m      5\u001b[0m \u001b[38;5;28mprint\u001b[39m(total_score)\n",
      "\u001b[0;31mTypeError\u001b[0m: 'int' object is not callable"
     ]
    }
   ],
   "source": [
    "# Sum of scores\n",
    "marks = [92, 55, 68, 79, 81, 47, 99, 64, 88, 53]\n",
    "\n",
    "total_score =sum(marks)  \n",
    "print(total_score)"
   ]
  },
  {
   "cell_type": "code",
   "execution_count": 47,
   "id": "953f2a29-0f4d-4e60-8bc3-f01dfec25f4b",
   "metadata": {},
   "outputs": [
    {
     "name": "stdout",
     "output_type": "stream",
     "text": [
      "726\n"
     ]
    }
   ],
   "source": [
    "sum=0\n",
    "for score in marks:\n",
    "    sum+=score\n",
    "\n",
    "print(sum)"
   ]
  },
  {
   "cell_type": "code",
   "execution_count": 54,
   "id": "0922f752-a097-4635-9baf-da7e8ed875ee",
   "metadata": {},
   "outputs": [
    {
     "name": "stdout",
     "output_type": "stream",
     "text": [
      "99\n"
     ]
    }
   ],
   "source": [
    "print(max(marks))"
   ]
  },
  {
   "cell_type": "code",
   "execution_count": 59,
   "id": "1e081071-736b-4f16-abda-587b40f558e6",
   "metadata": {},
   "outputs": [
    {
     "name": "stdout",
     "output_type": "stream",
     "text": [
      "99\n"
     ]
    }
   ],
   "source": [
    "#Highest Score\n",
    "max_score=0\n",
    "for score in marks:\n",
    "    if score > max_score:\n",
    "        max_score=score\n",
    "\n",
    "print(max_score)"
   ]
  },
  {
   "cell_type": "code",
   "execution_count": 60,
   "id": "fc4331ca-2875-45da-b77b-d1df510e908d",
   "metadata": {},
   "outputs": [
    {
     "ename": "NameError",
     "evalue": "name 'a' is not defined",
     "output_type": "error",
     "traceback": [
      "\u001b[0;31m---------------------------------------------------------------------------\u001b[0m",
      "\u001b[0;31mNameError\u001b[0m                                 Traceback (most recent call last)",
      "Cell \u001b[0;32mIn[60], line 2\u001b[0m\n\u001b[1;32m      1\u001b[0m \u001b[38;5;66;03m#for loops and the range() function\u001b[39;00m\n\u001b[0;32m----> 2\u001b[0m \u001b[38;5;28;01mfor\u001b[39;00m number \u001b[38;5;129;01min\u001b[39;00m \u001b[38;5;28mrange\u001b[39m(\u001b[43ma\u001b[49m ,b):\n\u001b[1;32m      3\u001b[0m     \u001b[38;5;28mprint\u001b[39m(number)\n",
      "\u001b[0;31mNameError\u001b[0m: name 'a' is not defined"
     ]
    }
   ],
   "source": [
    "#for loops and the range() function\n",
    "for number in range(a ,b):\n",
    "    print(number)"
   ]
  },
  {
   "cell_type": "code",
   "execution_count": 61,
   "id": "ff96342b-14c1-42b2-aa2d-ea14e7df2fab",
   "metadata": {},
   "outputs": [
    {
     "name": "stdout",
     "output_type": "stream",
     "text": [
      "range(1, 100)\n"
     ]
    }
   ],
   "source": [
    "print(range(1,100))-->Not work"
   ]
  },
  {
   "cell_type": "code",
   "execution_count": 62,
   "id": "be6ec88c-b6fb-42db-9a24-ca9f977415cf",
   "metadata": {},
   "outputs": [
    {
     "name": "stdout",
     "output_type": "stream",
     "text": [
      "1\n",
      "2\n",
      "3\n",
      "4\n",
      "5\n",
      "6\n",
      "7\n",
      "8\n",
      "9\n"
     ]
    }
   ],
   "source": [
    "for number in range(1 ,10):\n",
    "    print(number)"
   ]
  },
  {
   "cell_type": "code",
   "execution_count": 63,
   "id": "ebc181af-170f-4251-ba93-5018b3d2c472",
   "metadata": {},
   "outputs": [
    {
     "name": "stdout",
     "output_type": "stream",
     "text": [
      "1\n",
      "4\n",
      "7\n"
     ]
    }
   ],
   "source": [
    "for number in range(1 ,10 ,3):\n",
    "    print(number)"
   ]
  },
  {
   "cell_type": "code",
   "execution_count": 67,
   "id": "220cf75f-11fb-4830-916c-5b6e67bf773c",
   "metadata": {},
   "outputs": [
    {
     "name": "stdout",
     "output_type": "stream",
     "text": [
      "5050\n"
     ]
    }
   ],
   "source": [
    "total=0\n",
    "for number in range(1 ,101):\n",
    "    total+=number\n",
    "\n",
    "print(total)"
   ]
  },
  {
   "cell_type": "markdown",
   "id": "594e8920-646f-48bf-b89b-14dae4601c25",
   "metadata": {},
   "source": [
    "Project: Create a Password Generator"
   ]
  },
  {
   "cell_type": "code",
   "execution_count": 81,
   "id": "9be54acb-596f-49ed-b6dc-499ae5cd5176",
   "metadata": {},
   "outputs": [],
   "source": [
    "letters= ['A', 'B', 'C', 'D', 'E', 'F', 'G', 'H', 'I', 'J', 'K', 'L', 'M', 'N', 'O', 'P', 'Q', 'R', 'S', 'T', 'U', 'V', 'W', 'X', 'Y', 'Z', 'a', 'b', 'c', 'd', 'e', 'f', 'g', 'h', 'i', 'j', 'k', 'l', 'm', \n",
    "    'n', 'o', 'p', 'q', 'r', 's', 't', 'u', 'v', 'w', 'x', 'y', 'z']\n",
    "\n",
    "numbers = ['0', '1', '2', '3', '4', '5', '6', '7', '8', '9']\n",
    "\n",
    "symbels= ['+', '-', '*', '/', '=', '%', '^','@', '#', '$', '&', '*', '~']"
   ]
  },
  {
   "cell_type": "code",
   "execution_count": 90,
   "id": "92cd71ce-6210-4ebf-b486-5c22c9bf6308",
   "metadata": {},
   "outputs": [
    {
     "name": "stdout",
     "output_type": "stream",
     "text": [
      "Welcom to the Pypassword Generator!\n"
     ]
    },
    {
     "name": "stdin",
     "output_type": "stream",
     "text": [
      "How many letters you wants in your password? 4\n",
      "How many numbers you wants in your password? 2\n",
      "How many symbels you wants in your password? 1\n"
     ]
    },
    {
     "name": "stdout",
     "output_type": "stream",
     "text": [
      " nmbA96&\n"
     ]
    }
   ],
   "source": [
    "#Easy level\n",
    "print(\"Welcom to the Pypassword Generator!\")\n",
    "nr_letters=int(input(\"How many letters you wants in your password?\"))\n",
    "nr_numbers=int(input(\"How many numbers you wants in your password?\"))\n",
    "nr_symbels=int(input(\"How many symbels you wants in your password?\"))\n",
    "import random\n",
    "\n",
    "#Easy level\n",
    "\n",
    "password=\" \"\n",
    "for char in range(0, nr_letters):\n",
    "    password+= random.choice(letters)\n",
    "    \n",
    "\n",
    "for char in range(0, nr_numbers):\n",
    "    password+= random.choice(numbers)\n",
    "    \n",
    "\n",
    "\n",
    "for char in range(0, nr_symbels):\n",
    "    password+= random.choice(symbels)\n",
    "\n",
    "\n",
    "print(password)"
   ]
  },
  {
   "cell_type": "code",
   "execution_count": 96,
   "id": "006c09be-8d0e-4c6d-b5ae-2559e0b23a5c",
   "metadata": {},
   "outputs": [
    {
     "name": "stdout",
     "output_type": "stream",
     "text": [
      "Welcom to the Pypassword Generator!\n"
     ]
    },
    {
     "name": "stdin",
     "output_type": "stream",
     "text": [
      "How many letters you wants in your password? 4\n",
      "How many numbers you wants in your password? 3\n",
      "How many symbels you wants in your password? 2\n"
     ]
    },
    {
     "name": "stdout",
     "output_type": "stream",
     "text": [
      "['b', 'm', 'd', 'n', '2', '9', '8', '*', '#']\n",
      "['8', 'b', '9', 'm', '*', '#', 'd', 'n', '2']\n",
      "Your password is :-8b9m*#dn2\n"
     ]
    }
   ],
   "source": [
    "#Hard level\n",
    "print(\"Welcom to the Pypassword Generator!\")\n",
    "nr_letters=int(input(\"How many letters you wants in your password?\"))\n",
    "nr_numbers=int(input(\"How many numbers you wants in your password?\"))\n",
    "nr_symbels=int(input(\"How many symbels you wants in your password?\"))\n",
    "import random\n",
    "\n",
    "#Easy level\n",
    "\n",
    "password=[]\n",
    "for char in range(0, nr_letters):\n",
    "    password.append(random.choice(letters))\n",
    "    \n",
    "\n",
    "for char in range(0, nr_numbers):\n",
    "    password.append(random.choice(numbers))\n",
    "    \n",
    "\n",
    "\n",
    "for char in range(0, nr_symbels):\n",
    "    password.append(random.choice(symbels))\n",
    "\n",
    "\n",
    "print(password)\n",
    "random.shuffle(password)\n",
    "print(password)\n",
    "\n",
    "passwords= \"\"\n",
    "for char in password:\n",
    "    passwords += char\n",
    "\n",
    "print(f\"Your password is :- {passwords}\")"
   ]
  },
  {
   "cell_type": "code",
   "execution_count": null,
   "id": "f622f188-f232-4fdf-9df6-18d29273f1a8",
   "metadata": {},
   "outputs": [],
   "source": []
  }
 ],
 "metadata": {
  "kernelspec": {
   "display_name": "tf-metal",
   "language": "python",
   "name": "tf-metal"
  },
  "language_info": {
   "codemirror_mode": {
    "name": "ipython",
    "version": 3
   },
   "file_extension": ".py",
   "mimetype": "text/x-python",
   "name": "python",
   "nbconvert_exporter": "python",
   "pygments_lexer": "ipython3",
   "version": "3.10.13"
  }
 },
 "nbformat": 4,
 "nbformat_minor": 5
}
