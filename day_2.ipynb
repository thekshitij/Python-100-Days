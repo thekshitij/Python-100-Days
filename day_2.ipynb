{
 "cells": [
  {
   "cell_type": "markdown",
   "id": "31d4dd8a-a580-4fbc-b167-070d4c813097",
   "metadata": {},
   "source": [
    "Length"
   ]
  },
  {
   "cell_type": "code",
   "execution_count": 2,
   "id": "b66ada93-f807-407a-9918-3d5c49f1a0c4",
   "metadata": {},
   "outputs": [
    {
     "name": "stdout",
     "output_type": "stream",
     "text": [
      "5\n"
     ]
    }
   ],
   "source": [
    "print(len(\"Hello\"))"
   ]
  },
  {
   "cell_type": "code",
   "execution_count": 5,
   "id": "e8ca4d6c-b067-42b9-a9e6-c3c4834f80c2",
   "metadata": {},
   "outputs": [
    {
     "ename": "TypeError",
     "evalue": "object of type 'int' has no len()",
     "output_type": "error",
     "traceback": [
      "\u001b[0;31m---------------------------------------------------------------------------\u001b[0m",
      "\u001b[0;31mTypeError\u001b[0m                                 Traceback (most recent call last)",
      "Cell \u001b[0;32mIn[5], line 1\u001b[0m\n\u001b[0;32m----> 1\u001b[0m \u001b[38;5;28mprint\u001b[39m(\u001b[38;5;28;43mlen\u001b[39;49m\u001b[43m(\u001b[49m\u001b[38;5;241;43m1234\u001b[39;49m\u001b[43m)\u001b[49m)\n",
      "\u001b[0;31mTypeError\u001b[0m: object of type 'int' has no len()"
     ]
    }
   ],
   "source": [
    "print(len(1234))"
   ]
  },
  {
   "cell_type": "code",
   "execution_count": 6,
   "id": "d7f50689-82f5-47ad-b492-1d507e11db88",
   "metadata": {},
   "outputs": [
    {
     "name": "stdout",
     "output_type": "stream",
     "text": [
      "4\n"
     ]
    }
   ],
   "source": [
    "print(len(\"1234\"))"
   ]
  },
  {
   "cell_type": "markdown",
   "id": "c1ae49a9-5c3d-4c25-b585-2c82c8609c16",
   "metadata": {},
   "source": [
    "Data-type"
   ]
  },
  {
   "cell_type": "code",
   "execution_count": 7,
   "id": "84246423-8302-4e52-b20c-17a7f876f146",
   "metadata": {},
   "outputs": [
    {
     "name": "stdout",
     "output_type": "stream",
     "text": [
      "H\n"
     ]
    }
   ],
   "source": [
    "#String\n",
    "print(\"Hello\"[0])"
   ]
  },
  {
   "cell_type": "code",
   "execution_count": 8,
   "id": "97705ea5-c60a-4eb1-aa76-1496dc24bd8c",
   "metadata": {},
   "outputs": [
    {
     "name": "stdout",
     "output_type": "stream",
     "text": [
      "e\n"
     ]
    }
   ],
   "source": [
    "print(\"Hello\"[1])"
   ]
  },
  {
   "cell_type": "code",
   "execution_count": 9,
   "id": "27d6a1ed-2fe7-46a2-899b-e006b7e2ea5d",
   "metadata": {},
   "outputs": [
    {
     "name": "stdout",
     "output_type": "stream",
     "text": [
      "o\n"
     ]
    }
   ],
   "source": [
    "print(\"Hello\"[4])"
   ]
  },
  {
   "cell_type": "code",
   "execution_count": 10,
   "id": "c38aace0-1da4-4910-9118-3c217ddf756b",
   "metadata": {},
   "outputs": [
    {
     "name": "stdout",
     "output_type": "stream",
     "text": [
      "Hello world\n"
     ]
    }
   ],
   "source": [
    "print(\"Hello \"+\"world\")"
   ]
  },
  {
   "cell_type": "code",
   "execution_count": 11,
   "id": "ad2ce022-145e-4c13-b769-e27ca3a6490b",
   "metadata": {},
   "outputs": [
    {
     "name": "stdout",
     "output_type": "stream",
     "text": [
      "579\n"
     ]
    }
   ],
   "source": [
    "#Integer\n",
    "print(123+456)"
   ]
  },
  {
   "cell_type": "code",
   "execution_count": 12,
   "id": "bd108668-803a-4407-a880-5a34613bead5",
   "metadata": {},
   "outputs": [
    {
     "name": "stdout",
     "output_type": "stream",
     "text": [
      "12.3\n"
     ]
    }
   ],
   "source": [
    "#Float\n",
    "print(round(12.27,1))"
   ]
  },
  {
   "cell_type": "code",
   "execution_count": 13,
   "id": "33975825-7d32-48f2-99a9-1e930f79e4a3",
   "metadata": {},
   "outputs": [
    {
     "name": "stdout",
     "output_type": "stream",
     "text": [
      "True\n",
      "False\n"
     ]
    }
   ],
   "source": [
    "#Boolean\n",
    "print(True)\n",
    "print(False)"
   ]
  },
  {
   "cell_type": "markdown",
   "id": "15493f13-afda-42fb-b97e-acf20a4f6cb1",
   "metadata": {},
   "source": [
    "The BMI is calculated by divison a parson weight by the squar of there height."
   ]
  },
  {
   "cell_type": "code",
   "execution_count": 14,
   "id": "c562af66-8021-4ab1-8ac6-e813acc97abb",
   "metadata": {},
   "outputs": [
    {
     "name": "stdin",
     "output_type": "stream",
     "text": [
      "Enter the weight(kg): 5\n",
      "Enter the height(m): 2\n"
     ]
    },
    {
     "name": "stdout",
     "output_type": "stream",
     "text": [
      "1\n"
     ]
    }
   ],
   "source": [
    "weight=float(input(\"Enter the weight(kg):\"))\n",
    "height=float(input(\"Enter the height(m):\"))\n",
    "\n",
    "bmi=(weight/(height**2)\n",
    "bmi=int(bmi)\n",
    "print(bmi)"
   ]
  },
  {
   "cell_type": "code",
   "execution_count": null,
   "id": "e295a5d8-2291-46e1-ab2b-5d19bdbb376d",
   "metadata": {},
   "outputs": [],
   "source": []
  }
 ],
 "metadata": {
  "kernelspec": {
   "display_name": "Python 3 (ipykernel)",
   "language": "python",
   "name": "python3"
  },
  "language_info": {
   "codemirror_mode": {
    "name": "ipython",
    "version": 3
   },
   "file_extension": ".py",
   "mimetype": "text/x-python",
   "name": "python",
   "nbconvert_exporter": "python",
   "pygments_lexer": "ipython3",
   "version": "3.10.15"
  }
 },
 "nbformat": 4,
 "nbformat_minor": 5
}
